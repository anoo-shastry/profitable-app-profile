{
 "cells": [
  {
   "cell_type": "markdown",
   "metadata": {},
   "source": [
    "### Introduction:  \n",
    "Our aim in this project is to find mobile app profiles for the `App Store` and `Google Play` markets.  \n",
    "  \n",
    "We will analyze the apps that are free to download and install, and the main source of revenue for these apps consists of in-app ads. This means that revenue of any given free app is mostly influenced by number of users that use app. Our goal for this project is to analyze data to help to understand what kinds of apps are likely to attract more users.  \n",
    "\n",
    "#### Reading CSV files and separating data from header:"
   ]
  },
  {
   "cell_type": "code",
   "execution_count": 1,
   "metadata": {},
   "outputs": [],
   "source": [
    "import csv"
   ]
  },
  {
   "cell_type": "code",
   "execution_count": 2,
   "metadata": {},
   "outputs": [],
   "source": [
    "def read_csv(filename, header=True):\n",
    "    with open(filename, encoding='utf8') as fd:\n",
    "        all_data = list(csv.reader(fd))\n",
    "        \n",
    "        if header:\n",
    "            return all_data[1:], all_data[0]\n",
    "        else:\n",
    "            return all_data"
   ]
  },
  {
   "cell_type": "code",
   "execution_count": 3,
   "metadata": {},
   "outputs": [
    {
     "name": "stdout",
     "output_type": "stream",
     "text": [
      "Android data:\n",
      "Total length: 10841\n",
      "['Photo Editor & Candy Camera & Grid & ScrapBook', 'ART_AND_DESIGN', '4.1', '159', '19M', '10,000+', 'Free', '0', 'Everyone', 'Art & Design', 'January 7, 2018', '1.0.0', '4.0.3 and up']\n",
      "['Coloring book moana', 'ART_AND_DESIGN', '3.9', '967', '14M', '500,000+', 'Free', '0', 'Everyone', 'Art & Design;Pretend Play', 'January 15, 2018', '2.0.0', '4.0.3 and up']\n",
      "['U Launcher Lite – FREE Live Cool Themes, Hide Apps', 'ART_AND_DESIGN', '4.7', '87510', '8.7M', '5,000,000+', 'Free', '0', 'Everyone', 'Art & Design', 'August 1, 2018', '1.2.4', '4.0.3 and up']\n",
      "['Sketch - Draw & Paint', 'ART_AND_DESIGN', '4.5', '215644', '25M', '50,000,000+', 'Free', '0', 'Teen', 'Art & Design', 'June 8, 2018', 'Varies with device', '4.2 and up']\n",
      "['Pixel Draw - Number Art Coloring Book', 'ART_AND_DESIGN', '4.3', '967', '2.8M', '100,000+', 'Free', '0', 'Everyone', 'Art & Design;Creativity', 'June 20, 2018', '1.1', '4.4 and up']\n"
     ]
    }
   ],
   "source": [
    "android_data, android_header = read_csv('googleplaystore.csv')\n",
    "print('Android data:')\n",
    "print('Total length: {}'.format(len(android_data)))\n",
    "for row in android_data[:5]:\n",
    "    print(row)"
   ]
  },
  {
   "cell_type": "code",
   "execution_count": 4,
   "metadata": {},
   "outputs": [
    {
     "name": "stdout",
     "output_type": "stream",
     "text": [
      "iOS data:\n",
      "Total length: 7197\n",
      "['284882215', 'Facebook', '389879808', 'USD', '0.0', '2974676', '212', '3.5', '3.5', '95.0', '4+', 'Social Networking', '37', '1', '29', '1']\n",
      "['389801252', 'Instagram', '113954816', 'USD', '0.0', '2161558', '1289', '4.5', '4.0', '10.23', '12+', 'Photo & Video', '37', '0', '29', '1']\n",
      "['529479190', 'Clash of Clans', '116476928', 'USD', '0.0', '2130805', '579', '4.5', '4.5', '9.24.12', '9+', 'Games', '38', '5', '18', '1']\n",
      "['420009108', 'Temple Run', '65921024', 'USD', '0.0', '1724546', '3842', '4.5', '4.0', '1.6.2', '9+', 'Games', '40', '5', '1', '1']\n",
      "['284035177', 'Pandora - Music & Radio', '130242560', 'USD', '0.0', '1126879', '3594', '4.0', '4.5', '8.4.1', '12+', 'Music', '37', '4', '1', '1']\n"
     ]
    }
   ],
   "source": [
    "ios_data, ios_header = read_csv('AppleStore.csv')\n",
    "print('iOS data:')\n",
    "print('Total length: {}'.format(len(ios_data)))\n",
    "for row in ios_data[:5]:\n",
    "    print(row)"
   ]
  },
  {
   "cell_type": "markdown",
   "metadata": {},
   "source": [
    "#### Deleting the wrong data:\n",
    "From the [discussion section](https://www.kaggle.com/lava18/google-play-store-apps/discussion) of the Google Play dataset, we can see that [this discussion](https://www.kaggle.com/lava18/google-play-store-apps/discussion/66015) outlines an error for row 10472. We shall delete that entry from our dataset."
   ]
  },
  {
   "cell_type": "code",
   "execution_count": 5,
   "metadata": {
    "scrolled": true
   },
   "outputs": [
    {
     "name": "stdout",
     "output_type": "stream",
     "text": [
      "['Life Made WI-Fi Touchscreen Photo Frame', '1.9', '19', '3.0M', '1,000+', 'Free', '0', 'Everyone', '', 'February 11, 2018', '1.0.19', '4.0 and up']\n"
     ]
    }
   ],
   "source": [
    "print(android_data[10472])"
   ]
  },
  {
   "cell_type": "code",
   "execution_count": 6,
   "metadata": {},
   "outputs": [
    {
     "name": "stdout",
     "output_type": "stream",
     "text": [
      "['osmino Wi-Fi: free WiFi', 'TOOLS', '4.2', '134203', '4.1M', '10,000,000+', 'Free', '0', 'Everyone', 'Tools', 'August 7, 2018', '6.06.14', '4.4 and up']\n"
     ]
    }
   ],
   "source": [
    "del(android_data[10472])\n",
    "print(android_data[10472])"
   ]
  },
  {
   "cell_type": "markdown",
   "metadata": {},
   "source": [
    "#### Removing duplicate entries:\n",
    "As we explore Google Play dataset further, we will find some apps that have more than one entry. For example, `Instagram` has 4 entries."
   ]
  },
  {
   "cell_type": "code",
   "execution_count": 7,
   "metadata": {},
   "outputs": [
    {
     "name": "stdout",
     "output_type": "stream",
     "text": [
      "['Instagram', 'SOCIAL', '4.5', '66577313', 'Varies with device', '1,000,000,000+', 'Free', '0', 'Teen', 'Social', 'July 31, 2018', 'Varies with device', 'Varies with device']\n",
      "['Instagram', 'SOCIAL', '4.5', '66577446', 'Varies with device', '1,000,000,000+', 'Free', '0', 'Teen', 'Social', 'July 31, 2018', 'Varies with device', 'Varies with device']\n",
      "['Instagram', 'SOCIAL', '4.5', '66577313', 'Varies with device', '1,000,000,000+', 'Free', '0', 'Teen', 'Social', 'July 31, 2018', 'Varies with device', 'Varies with device']\n",
      "['Instagram', 'SOCIAL', '4.5', '66509917', 'Varies with device', '1,000,000,000+', 'Free', '0', 'Teen', 'Social', 'July 31, 2018', 'Varies with device', 'Varies with device']\n"
     ]
    }
   ],
   "source": [
    "for row in android_data:\n",
    "    if row[0] == 'Instagram':\n",
    "        print(row)"
   ]
  },
  {
   "cell_type": "code",
   "execution_count": 8,
   "metadata": {},
   "outputs": [],
   "source": [
    "def check_duplicates(dataset, name_ind):\n",
    "    unique_apps = set()\n",
    "    \n",
    "    for row in dataset:\n",
    "        app = row[name_ind]\n",
    "        unique_apps.add(app)\n",
    "    \n",
    "    return len(dataset) - len(unique_apps)"
   ]
  },
  {
   "cell_type": "code",
   "execution_count": 9,
   "metadata": {},
   "outputs": [
    {
     "name": "stdout",
     "output_type": "stream",
     "text": [
      "Number of duplicates in Google Play dataset: 1181\n"
     ]
    }
   ],
   "source": [
    "print('Number of duplicates in Google Play dataset: {}'.format(check_duplicates(android_data, 0))) # column 1, 'App'"
   ]
  },
  {
   "cell_type": "code",
   "execution_count": 10,
   "metadata": {},
   "outputs": [
    {
     "name": "stdout",
     "output_type": "stream",
     "text": [
      "Number of duplicates in App Store dataset: 2\n"
     ]
    }
   ],
   "source": [
    "print('Number of duplicates in App Store dataset: {}'.format(check_duplicates(ios_data, 1))) # column 2, 'track_name'"
   ]
  },
  {
   "cell_type": "markdown",
   "metadata": {},
   "source": [
    "In total there are `1181` duplicate app entries in Google Play dataset.  \n",
    "We don't want to count certain apps more than once when we analyze data, so we need to remove the duplicate entries and keep only one entry per app.  \n",
    "  \n",
    "When we examine duplicate entries of `Instagram`, the main difference happens on 4th column of each row (`Reviews`), which corresponds to the number of reviews. The different numtbers show that the data was collected at different times. We can use this to build a criterion for keeping rows. We will keep the rows that have the highest number of reviews because the higher the number of reviews, the more reliable the ratings.  \n",
    "  \n",
    "To remove the duplicate entries, we will:\n",
    "* Create a dictionary where each key is an unique app name, and the value is the highest number of reviews of that app.\n",
    "* Use the above created dictionary to create a new dataset, which will have only one entry per app."
   ]
  },
  {
   "cell_type": "code",
   "execution_count": 11,
   "metadata": {},
   "outputs": [],
   "source": [
    "def get_max_reviews(dataset, name_ind, review_ind):\n",
    "    reviews_max = dict()\n",
    "    \n",
    "    for row in dataset:\n",
    "        app = row[name_ind]\n",
    "        review = float(row[review_ind])\n",
    "\n",
    "        if app in reviews_max and reviews_max[app] < review:\n",
    "            reviews_max[app] = review\n",
    "        elif app not in reviews_max:\n",
    "            reviews_max[app] = review\n",
    "    \n",
    "    return reviews_max"
   ]
  },
  {
   "cell_type": "code",
   "execution_count": 12,
   "metadata": {},
   "outputs": [],
   "source": [
    "def remove_duplicate_apps(dataset, name_ind, review_ind):\n",
    "    \n",
    "    if check_duplicates(dataset, name_ind) > 0:\n",
    "        reviews_max = get_max_reviews(dataset, name_ind, review_ind)\n",
    "\n",
    "        clean_data = list()\n",
    "        already_added = list()\n",
    "    \n",
    "        for row in dataset:\n",
    "            app = row[name_ind]\n",
    "            review = float(row[review_ind])\n",
    "        \n",
    "            if reviews_max[app] == review and (app not in already_added):\n",
    "                clean_data.append(row)\n",
    "                already_added.append(app)\n",
    "    \n",
    "        return clean_data\n",
    "    else:\n",
    "        return dataset"
   ]
  },
  {
   "cell_type": "code",
   "execution_count": 13,
   "metadata": {
    "scrolled": true
   },
   "outputs": [
    {
     "name": "stdout",
     "output_type": "stream",
     "text": [
      "Android data:\n",
      "Length after removing duplicates: 9659\n",
      "['Photo Editor & Candy Camera & Grid & ScrapBook', 'ART_AND_DESIGN', '4.1', '159', '19M', '10,000+', 'Free', '0', 'Everyone', 'Art & Design', 'January 7, 2018', '1.0.0', '4.0.3 and up']\n",
      "['U Launcher Lite – FREE Live Cool Themes, Hide Apps', 'ART_AND_DESIGN', '4.7', '87510', '8.7M', '5,000,000+', 'Free', '0', 'Everyone', 'Art & Design', 'August 1, 2018', '1.2.4', '4.0.3 and up']\n",
      "['Sketch - Draw & Paint', 'ART_AND_DESIGN', '4.5', '215644', '25M', '50,000,000+', 'Free', '0', 'Teen', 'Art & Design', 'June 8, 2018', 'Varies with device', '4.2 and up']\n",
      "['Pixel Draw - Number Art Coloring Book', 'ART_AND_DESIGN', '4.3', '967', '2.8M', '100,000+', 'Free', '0', 'Everyone', 'Art & Design;Creativity', 'June 20, 2018', '1.1', '4.4 and up']\n",
      "['Paper flowers instructions', 'ART_AND_DESIGN', '4.4', '167', '5.6M', '50,000+', 'Free', '0', 'Everyone', 'Art & Design', 'March 26, 2017', '1.0', '2.3 and up']\n"
     ]
    }
   ],
   "source": [
    "android_data = remove_duplicate_apps(android_data, 0, 3) # columns 'App' and 'Review'\n",
    "print('Android data:')\n",
    "print('Length after removing duplicates: {}'.format(len(android_data)))\n",
    "for row in android_data[:5]:\n",
    "    print(row)"
   ]
  },
  {
   "cell_type": "code",
   "execution_count": 14,
   "metadata": {},
   "outputs": [
    {
     "name": "stdout",
     "output_type": "stream",
     "text": [
      "iOS data:\n",
      "Length after removing duplicates: 7195\n",
      "['284882215', 'Facebook', '389879808', 'USD', '0.0', '2974676', '212', '3.5', '3.5', '95.0', '4+', 'Social Networking', '37', '1', '29', '1']\n",
      "['389801252', 'Instagram', '113954816', 'USD', '0.0', '2161558', '1289', '4.5', '4.0', '10.23', '12+', 'Photo & Video', '37', '0', '29', '1']\n",
      "['529479190', 'Clash of Clans', '116476928', 'USD', '0.0', '2130805', '579', '4.5', '4.5', '9.24.12', '9+', 'Games', '38', '5', '18', '1']\n",
      "['420009108', 'Temple Run', '65921024', 'USD', '0.0', '1724546', '3842', '4.5', '4.0', '1.6.2', '9+', 'Games', '40', '5', '1', '1']\n",
      "['284035177', 'Pandora - Music & Radio', '130242560', 'USD', '0.0', '1126879', '3594', '4.0', '4.5', '8.4.1', '12+', 'Music', '37', '4', '1', '1']\n"
     ]
    }
   ],
   "source": [
    "ios_data = remove_duplicate_apps(ios_data, 1, 5) # columns 'track_name', 'rating_count_tot'\n",
    "print('iOS data:')\n",
    "print('Length after removing duplicates: {}'.format(len(ios_data)))\n",
    "for row in ios_data[:5]:\n",
    "    print(row)"
   ]
  },
  {
   "cell_type": "markdown",
   "metadata": {},
   "source": [
    "#### Removing non-English apps:  \n",
    "As we explore the datasets even further, we can notice the names of the some of the app suggest that they are not directed towards an English-speaking audience. Below are the example:"
   ]
  },
  {
   "cell_type": "code",
   "execution_count": 15,
   "metadata": {},
   "outputs": [
    {
     "name": "stdout",
     "output_type": "stream",
     "text": [
      "中国語 AQリスニング\n",
      "لعبة تقدر تربح DZ\n"
     ]
    }
   ],
   "source": [
    "print(android_data[4412][0])\n",
    "print(android_data[7940][0])"
   ]
  },
  {
   "cell_type": "markdown",
   "metadata": {},
   "source": [
    "We are not interested in keeping these kind of apps, so we will remove them. One way is to, remove each app whose name contains a symbol that is not commonly used in English text - English text usually includes the letters from English alphabet (a-zA-Z), numbers (0-9), punctuations (.,;?! etc), and other symbols (+-* / etc).  \n",
    "  \n",
    "All these characters that are specific to English texts are encoded using the ASCII standards. Each ASCII character has a corresponding number between 0-127 associated with it, and we can take advantage of that to build a function that checks an app name and tell us whether it contains non-ASCII characters.  \n",
    "But some English app name use emojis or other symbols (™, 😜 etc) that fall outside of the ASCII range. To minimize the impact of loss, we will only remove an app if its name has more than 3 non-ASCII characters."
   ]
  },
  {
   "cell_type": "code",
   "execution_count": 16,
   "metadata": {},
   "outputs": [],
   "source": [
    "def is_english(app_name):\n",
    "    non_ascii = 0\n",
    "    \n",
    "    for char in app_name:\n",
    "        if ord(char) > 127:\n",
    "            non_ascii += 1\n",
    "    \n",
    "    return (non_ascii <= 3)"
   ]
  },
  {
   "cell_type": "code",
   "execution_count": 17,
   "metadata": {},
   "outputs": [],
   "source": [
    "def english_dataset(dataset, name_ind):\n",
    "    clean_data = list()\n",
    "    \n",
    "    for row in dataset:\n",
    "        app = row[name_ind]\n",
    "        if is_english(app):\n",
    "            clean_data.append(row)\n",
    "    \n",
    "    return clean_data"
   ]
  },
  {
   "cell_type": "code",
   "execution_count": 18,
   "metadata": {},
   "outputs": [
    {
     "name": "stdout",
     "output_type": "stream",
     "text": [
      "Android data:\n",
      "Length after removing non-English apps: 9614\n",
      "['Photo Editor & Candy Camera & Grid & ScrapBook', 'ART_AND_DESIGN', '4.1', '159', '19M', '10,000+', 'Free', '0', 'Everyone', 'Art & Design', 'January 7, 2018', '1.0.0', '4.0.3 and up']\n",
      "['U Launcher Lite – FREE Live Cool Themes, Hide Apps', 'ART_AND_DESIGN', '4.7', '87510', '8.7M', '5,000,000+', 'Free', '0', 'Everyone', 'Art & Design', 'August 1, 2018', '1.2.4', '4.0.3 and up']\n",
      "['Sketch - Draw & Paint', 'ART_AND_DESIGN', '4.5', '215644', '25M', '50,000,000+', 'Free', '0', 'Teen', 'Art & Design', 'June 8, 2018', 'Varies with device', '4.2 and up']\n",
      "['Pixel Draw - Number Art Coloring Book', 'ART_AND_DESIGN', '4.3', '967', '2.8M', '100,000+', 'Free', '0', 'Everyone', 'Art & Design;Creativity', 'June 20, 2018', '1.1', '4.4 and up']\n",
      "['Paper flowers instructions', 'ART_AND_DESIGN', '4.4', '167', '5.6M', '50,000+', 'Free', '0', 'Everyone', 'Art & Design', 'March 26, 2017', '1.0', '2.3 and up']\n"
     ]
    }
   ],
   "source": [
    "android_data = english_dataset(android_data, 0) # column 'App'\n",
    "print('Android data:')\n",
    "print('Length after removing non-English apps: {}'.format(len(android_data)))\n",
    "for row in android_data[:5]:\n",
    "    print(row)"
   ]
  },
  {
   "cell_type": "code",
   "execution_count": 19,
   "metadata": {},
   "outputs": [
    {
     "name": "stdout",
     "output_type": "stream",
     "text": [
      "iOS data:\n",
      "Length after removing non-English apps: 6181\n",
      "['284882215', 'Facebook', '389879808', 'USD', '0.0', '2974676', '212', '3.5', '3.5', '95.0', '4+', 'Social Networking', '37', '1', '29', '1']\n",
      "['389801252', 'Instagram', '113954816', 'USD', '0.0', '2161558', '1289', '4.5', '4.0', '10.23', '12+', 'Photo & Video', '37', '0', '29', '1']\n",
      "['529479190', 'Clash of Clans', '116476928', 'USD', '0.0', '2130805', '579', '4.5', '4.5', '9.24.12', '9+', 'Games', '38', '5', '18', '1']\n",
      "['420009108', 'Temple Run', '65921024', 'USD', '0.0', '1724546', '3842', '4.5', '4.0', '1.6.2', '9+', 'Games', '40', '5', '1', '1']\n",
      "['284035177', 'Pandora - Music & Radio', '130242560', 'USD', '0.0', '1126879', '3594', '4.0', '4.5', '8.4.1', '12+', 'Music', '37', '4', '1', '1']\n"
     ]
    }
   ],
   "source": [
    "ios_data = english_dataset(ios_data, 1) # column 'track_name'\n",
    "print('iOS data:')\n",
    "print('Length after removing non-English apps: {}'.format(len(ios_data)))\n",
    "for row in ios_data[:5]:\n",
    "    print(row)"
   ]
  },
  {
   "cell_type": "markdown",
   "metadata": {},
   "source": [
    "#### Isolating the free apps:  \n",
    "As mentioned in the introduction, we will analyze the apps that are free to download and install, and revenue of free apps are in-app ads. Since our dataset contains both free and non-free apps, we will need to isolate only the free apps for our analysis."
   ]
  },
  {
   "cell_type": "code",
   "execution_count": 20,
   "metadata": {},
   "outputs": [],
   "source": [
    "def get_free_apps(dataset, price_ind):\n",
    "    free_apps = list()\n",
    "    \n",
    "    for row in dataset:\n",
    "        price = row[price_ind].replace('$', '')\n",
    "        if float(price) == 0.0:\n",
    "            free_apps.append(row)\n",
    "    \n",
    "    return free_apps"
   ]
  },
  {
   "cell_type": "code",
   "execution_count": 21,
   "metadata": {},
   "outputs": [
    {
     "name": "stdout",
     "output_type": "stream",
     "text": [
      "Android data:\n",
      "Length after removing non-free apps: 8864\n",
      "['Photo Editor & Candy Camera & Grid & ScrapBook', 'ART_AND_DESIGN', '4.1', '159', '19M', '10,000+', 'Free', '0', 'Everyone', 'Art & Design', 'January 7, 2018', '1.0.0', '4.0.3 and up']\n",
      "['U Launcher Lite – FREE Live Cool Themes, Hide Apps', 'ART_AND_DESIGN', '4.7', '87510', '8.7M', '5,000,000+', 'Free', '0', 'Everyone', 'Art & Design', 'August 1, 2018', '1.2.4', '4.0.3 and up']\n",
      "['Sketch - Draw & Paint', 'ART_AND_DESIGN', '4.5', '215644', '25M', '50,000,000+', 'Free', '0', 'Teen', 'Art & Design', 'June 8, 2018', 'Varies with device', '4.2 and up']\n",
      "['Pixel Draw - Number Art Coloring Book', 'ART_AND_DESIGN', '4.3', '967', '2.8M', '100,000+', 'Free', '0', 'Everyone', 'Art & Design;Creativity', 'June 20, 2018', '1.1', '4.4 and up']\n",
      "['Paper flowers instructions', 'ART_AND_DESIGN', '4.4', '167', '5.6M', '50,000+', 'Free', '0', 'Everyone', 'Art & Design', 'March 26, 2017', '1.0', '2.3 and up']\n"
     ]
    }
   ],
   "source": [
    "android_data = get_free_apps(android_data, 7) # column 'Price'\n",
    "print('Android data:')\n",
    "print('Length after removing non-free apps: {}'.format(len(android_data)))\n",
    "for row in android_data[:5]:\n",
    "    print(row)"
   ]
  },
  {
   "cell_type": "code",
   "execution_count": 22,
   "metadata": {},
   "outputs": [
    {
     "name": "stdout",
     "output_type": "stream",
     "text": [
      "iOS data:\n",
      "Length after removing non-free apps: 3220\n",
      "['284882215', 'Facebook', '389879808', 'USD', '0.0', '2974676', '212', '3.5', '3.5', '95.0', '4+', 'Social Networking', '37', '1', '29', '1']\n",
      "['389801252', 'Instagram', '113954816', 'USD', '0.0', '2161558', '1289', '4.5', '4.0', '10.23', '12+', 'Photo & Video', '37', '0', '29', '1']\n",
      "['529479190', 'Clash of Clans', '116476928', 'USD', '0.0', '2130805', '579', '4.5', '4.5', '9.24.12', '9+', 'Games', '38', '5', '18', '1']\n",
      "['420009108', 'Temple Run', '65921024', 'USD', '0.0', '1724546', '3842', '4.5', '4.0', '1.6.2', '9+', 'Games', '40', '5', '1', '1']\n",
      "['284035177', 'Pandora - Music & Radio', '130242560', 'USD', '0.0', '1126879', '3594', '4.0', '4.5', '8.4.1', '12+', 'Music', '37', '4', '1', '1']\n"
     ]
    }
   ],
   "source": [
    "ios_data = get_free_apps(ios_data, 4) # column 'price'\n",
    "print('iOS data:')\n",
    "print('Length after removing non-free apps: {}'.format(len(ios_data)))\n",
    "for row in ios_data[:5]:\n",
    "    print(row)"
   ]
  },
  {
   "cell_type": "markdown",
   "metadata": {},
   "source": [
    "We are now left with `8864` android apps and `3220` iOS apps.  \n",
    "  \n",
    "#### Most common apps by genre:  \n",
    "Let us begin our analysis by getting a sense of the most common genres for each market. For this, we will build a frequency table.  \n",
    "  \n",
    "We will build two functions which we can use to analyze the frequency tables:\n",
    "* One function to generate frequency table that shows percentage\n",
    "* Another function that we can use to display the percentages in descending order"
   ]
  },
  {
   "cell_type": "code",
   "execution_count": 23,
   "metadata": {},
   "outputs": [],
   "source": [
    "def frequency_table(dataset, genre_ind):\n",
    "    freq_table = dict()\n",
    "    \n",
    "    for row in dataset:\n",
    "        genre = row[genre_ind]\n",
    "        freq_table[genre] = freq_table.get(genre, 0) + 1\n",
    "    \n",
    "    total = len(dataset)\n",
    "    percent_table = dict()\n",
    "    for genre in freq_table:\n",
    "        percent_table[genre] = (freq_table[genre] / total) * 100\n",
    "    \n",
    "    return percent_table"
   ]
  },
  {
   "cell_type": "code",
   "execution_count": 24,
   "metadata": {},
   "outputs": [],
   "source": [
    "def display_table(freq_table):\n",
    "    # sort in descending order\n",
    "    table_sorted = sorted(freq_table.items(), key=lambda x: x[1], reverse=True)\n",
    "    for entry in table_sorted:\n",
    "        print('{} : {:.2f}'.format(*entry))"
   ]
  },
  {
   "cell_type": "markdown",
   "metadata": {},
   "source": [
    "Examining frequency table for the `prime_genre` column of the App Store data set."
   ]
  },
  {
   "cell_type": "code",
   "execution_count": 25,
   "metadata": {},
   "outputs": [
    {
     "name": "stdout",
     "output_type": "stream",
     "text": [
      "Games : 58.14\n",
      "Entertainment : 7.89\n",
      "Photo & Video : 4.97\n",
      "Education : 3.66\n",
      "Social Networking : 3.29\n",
      "Shopping : 2.61\n",
      "Utilities : 2.52\n",
      "Sports : 2.14\n",
      "Music : 2.05\n",
      "Health & Fitness : 2.02\n",
      "Productivity : 1.74\n",
      "Lifestyle : 1.58\n",
      "News : 1.34\n",
      "Travel : 1.24\n",
      "Finance : 1.12\n",
      "Weather : 0.87\n",
      "Food & Drink : 0.81\n",
      "Reference : 0.56\n",
      "Business : 0.53\n",
      "Book : 0.43\n",
      "Navigation : 0.19\n",
      "Medical : 0.19\n",
      "Catalogs : 0.12\n"
     ]
    }
   ],
   "source": [
    "prime_genre_freq = frequency_table(ios_data, -5) # column 'prime_genre'\n",
    "display_table(prime_genre_freq)"
   ]
  },
  {
   "cell_type": "markdown",
   "metadata": {},
   "source": [
    "We can see that among the free English apps, more than half (`58.14%`) are `Games`. `Entertainment` apps are close to `8%`, followed by `Photo & Video` apps, which is close to `5%`. Only `3.66%` of the apps are designed for `Education`, followed by `Social Networking` apps which amount `3.29%` of the apps in our dataset.  \n",
    "  \n",
    "The general impression is that App Store (at least the part containing free English apps) is dominated by apps that are designed for fun (games, entertainment, photo and video, social networking, sports, music, etc.), while apps with practical purposes (education, shopping, utilities, productivity, lifestyle, etc.) are more rare.  \n",
    "  \n",
    "Examining the `Category` and `Genre` columns of the Google Play dataset:"
   ]
  },
  {
   "cell_type": "code",
   "execution_count": 26,
   "metadata": {},
   "outputs": [
    {
     "name": "stdout",
     "output_type": "stream",
     "text": [
      "FAMILY : 18.91\n",
      "GAME : 9.72\n",
      "TOOLS : 8.46\n",
      "BUSINESS : 4.59\n",
      "LIFESTYLE : 3.90\n",
      "PRODUCTIVITY : 3.89\n",
      "FINANCE : 3.70\n",
      "MEDICAL : 3.53\n",
      "SPORTS : 3.40\n",
      "PERSONALIZATION : 3.32\n",
      "COMMUNICATION : 3.24\n",
      "HEALTH_AND_FITNESS : 3.08\n",
      "PHOTOGRAPHY : 2.94\n",
      "NEWS_AND_MAGAZINES : 2.80\n",
      "SOCIAL : 2.66\n",
      "TRAVEL_AND_LOCAL : 2.34\n",
      "SHOPPING : 2.25\n",
      "BOOKS_AND_REFERENCE : 2.14\n",
      "DATING : 1.86\n",
      "VIDEO_PLAYERS : 1.79\n",
      "MAPS_AND_NAVIGATION : 1.40\n",
      "FOOD_AND_DRINK : 1.24\n",
      "EDUCATION : 1.16\n",
      "ENTERTAINMENT : 0.96\n",
      "LIBRARIES_AND_DEMO : 0.94\n",
      "AUTO_AND_VEHICLES : 0.93\n",
      "HOUSE_AND_HOME : 0.82\n",
      "WEATHER : 0.80\n",
      "EVENTS : 0.71\n",
      "PARENTING : 0.65\n",
      "ART_AND_DESIGN : 0.64\n",
      "COMICS : 0.62\n",
      "BEAUTY : 0.60\n"
     ]
    }
   ],
   "source": [
    "category_freq = frequency_table(android_data, 1) # column 'Category'\n",
    "display_table(category_freq)"
   ]
  },
  {
   "cell_type": "markdown",
   "metadata": {},
   "source": [
    "There are not many apps designed for fun in Google play, and it seems that a good number of apps are designed for practical purposes (family, tools, business, lifestyle etc). However, if we investigate this further, we can see that the family category means mostly games for kids."
   ]
  },
  {
   "cell_type": "code",
   "execution_count": 27,
   "metadata": {
    "scrolled": true
   },
   "outputs": [
    {
     "name": "stdout",
     "output_type": "stream",
     "text": [
      "Tools : 8.45\n",
      "Entertainment : 6.07\n",
      "Education : 5.35\n",
      "Business : 4.59\n",
      "Lifestyle : 3.89\n",
      "Productivity : 3.89\n",
      "Finance : 3.70\n",
      "Medical : 3.53\n",
      "Sports : 3.46\n",
      "Personalization : 3.32\n",
      "Communication : 3.24\n",
      "Action : 3.10\n",
      "Health & Fitness : 3.08\n",
      "Photography : 2.94\n",
      "News & Magazines : 2.80\n",
      "Social : 2.66\n",
      "Travel & Local : 2.32\n",
      "Shopping : 2.25\n",
      "Books & Reference : 2.14\n",
      "Simulation : 2.04\n",
      "Dating : 1.86\n",
      "Arcade : 1.85\n",
      "Video Players & Editors : 1.77\n",
      "Casual : 1.76\n",
      "Maps & Navigation : 1.40\n",
      "Food & Drink : 1.24\n",
      "Puzzle : 1.13\n",
      "Racing : 0.99\n",
      "Libraries & Demo : 0.94\n",
      "Role Playing : 0.94\n",
      "Auto & Vehicles : 0.93\n",
      "Strategy : 0.91\n",
      "House & Home : 0.82\n",
      "Weather : 0.80\n",
      "Events : 0.71\n",
      "Adventure : 0.68\n",
      "Comics : 0.61\n",
      "Art & Design : 0.60\n",
      "Beauty : 0.60\n",
      "Parenting : 0.50\n",
      "Card : 0.45\n",
      "Casino : 0.43\n",
      "Trivia : 0.42\n",
      "Educational;Education : 0.39\n",
      "Board : 0.38\n",
      "Educational : 0.37\n",
      "Education;Education : 0.34\n",
      "Word : 0.26\n",
      "Casual;Pretend Play : 0.24\n",
      "Music : 0.20\n",
      "Entertainment;Music & Video : 0.17\n",
      "Puzzle;Brain Games : 0.17\n",
      "Racing;Action & Adventure : 0.17\n",
      "Casual;Brain Games : 0.14\n",
      "Casual;Action & Adventure : 0.14\n",
      "Arcade;Action & Adventure : 0.12\n",
      "Action;Action & Adventure : 0.10\n",
      "Educational;Pretend Play : 0.09\n",
      "Entertainment;Brain Games : 0.08\n",
      "Simulation;Action & Adventure : 0.08\n",
      "Board;Brain Games : 0.08\n",
      "Parenting;Education : 0.08\n",
      "Art & Design;Creativity : 0.07\n",
      "Educational;Brain Games : 0.07\n",
      "Casual;Creativity : 0.07\n",
      "Parenting;Music & Video : 0.07\n",
      "Education;Pretend Play : 0.06\n",
      "Education;Creativity : 0.05\n",
      "Role Playing;Pretend Play : 0.05\n",
      "Education;Brain Games : 0.03\n",
      "Entertainment;Creativity : 0.03\n",
      "Educational;Creativity : 0.03\n",
      "Adventure;Action & Adventure : 0.03\n",
      "Role Playing;Action & Adventure : 0.03\n",
      "Educational;Action & Adventure : 0.03\n",
      "Entertainment;Action & Adventure : 0.03\n",
      "Puzzle;Action & Adventure : 0.03\n",
      "Education;Action & Adventure : 0.03\n",
      "Education;Music & Video : 0.03\n",
      "Casual;Education : 0.02\n",
      "Music;Music & Video : 0.02\n",
      "Simulation;Pretend Play : 0.02\n",
      "Puzzle;Creativity : 0.02\n",
      "Sports;Action & Adventure : 0.02\n",
      "Board;Action & Adventure : 0.02\n",
      "Entertainment;Pretend Play : 0.02\n",
      "Video Players & Editors;Music & Video : 0.02\n",
      "Comics;Creativity : 0.01\n",
      "Lifestyle;Pretend Play : 0.01\n",
      "Art & Design;Pretend Play : 0.01\n",
      "Entertainment;Education : 0.01\n",
      "Arcade;Pretend Play : 0.01\n",
      "Art & Design;Action & Adventure : 0.01\n",
      "Strategy;Action & Adventure : 0.01\n",
      "Music & Audio;Music & Video : 0.01\n",
      "Health & Fitness;Education : 0.01\n",
      "Casual;Music & Video : 0.01\n",
      "Travel & Local;Action & Adventure : 0.01\n",
      "Tools;Education : 0.01\n",
      "Parenting;Brain Games : 0.01\n",
      "Video Players & Editors;Creativity : 0.01\n",
      "Health & Fitness;Action & Adventure : 0.01\n",
      "Trivia;Education : 0.01\n",
      "Lifestyle;Education : 0.01\n",
      "Card;Action & Adventure : 0.01\n",
      "Books & Reference;Education : 0.01\n",
      "Simulation;Education : 0.01\n",
      "Puzzle;Education : 0.01\n",
      "Adventure;Education : 0.01\n",
      "Role Playing;Brain Games : 0.01\n",
      "Strategy;Education : 0.01\n",
      "Racing;Pretend Play : 0.01\n",
      "Communication;Creativity : 0.01\n",
      "Strategy;Creativity : 0.01\n"
     ]
    }
   ],
   "source": [
    "genre_freq = frequency_table(android_data, -4) # column 'Genre'\n",
    "display_table(genre_freq)"
   ]
  },
  {
   "cell_type": "markdown",
   "metadata": {},
   "source": [
    "The difference between the *Genres* and the *Category* columns is not clear, but one thing that we can notice is that the *Genres* column has more categories.  \n",
    "Up to this point, we found that the AppStore is dominated by apps designed for fun, while Google Play shows a more balanced landscape of both practical and for-fun apps.  \n",
    "  \n",
    "#### Most popular apps by Genre on the App Store:  \n",
    "One way to find out what genres are the most popular is to calculate the average number of installs for each app genre. For the Google Play data set, we can find this information in the `Installs` column, but for the App Store data, this information is missing. As a workaround, we shall take the total number of user ratings as a proxy, which we can find in the `rating_count_tot` app.  \n",
    "  \n",
    "Below, we shall calculate the average number of user ratings per app genre on the App Store:"
   ]
  },
  {
   "cell_type": "code",
   "execution_count": 28,
   "metadata": {},
   "outputs": [],
   "source": [
    "def rating_per_genre(dataset, freq_table):\n",
    "    genre_ratings = dict()\n",
    "    \n",
    "    for genre in freq_table:\n",
    "        genre_len = 0\n",
    "        ratings = 0\n",
    "        \n",
    "        for row in dataset:\n",
    "            app_genre = row[-5]\n",
    "            if app_genre == genre:\n",
    "                ratings += float(row[5])\n",
    "                genre_len += 1\n",
    "        avg_ratings = ratings / genre_len\n",
    "        genre_ratings[genre] = avg_ratings\n",
    "    \n",
    "    return genre_ratings"
   ]
  },
  {
   "cell_type": "code",
   "execution_count": 29,
   "metadata": {},
   "outputs": [
    {
     "name": "stdout",
     "output_type": "stream",
     "text": [
      "Navigation : 86090.33\n",
      "Reference : 74942.11\n",
      "Social Networking : 71548.35\n",
      "Music : 57326.53\n",
      "Weather : 52279.89\n",
      "Book : 39758.50\n",
      "Food & Drink : 33333.92\n",
      "Finance : 31467.94\n",
      "Photo & Video : 28441.54\n",
      "Travel : 28243.80\n",
      "Shopping : 26919.69\n",
      "Health & Fitness : 23298.02\n",
      "Sports : 23008.90\n",
      "Games : 22812.92\n",
      "News : 21248.02\n",
      "Productivity : 21028.41\n",
      "Utilities : 18684.46\n",
      "Lifestyle : 16485.76\n",
      "Entertainment : 14029.83\n",
      "Business : 7491.12\n",
      "Education : 7003.98\n",
      "Catalogs : 4004.00\n",
      "Medical : 612.00\n"
     ]
    }
   ],
   "source": [
    "genre_ios = frequency_table(ios_data, -5)\n",
    "ios_genre_ratings = rating_per_genre(ios_data, genre_ios)\n",
    "display_table(ios_genre_ratings)"
   ]
  },
  {
   "cell_type": "code",
   "execution_count": 30,
   "metadata": {},
   "outputs": [
    {
     "name": "stdout",
     "output_type": "stream",
     "text": [
      "Waze - GPS Navigation, Maps & Real-time Traffic: 345046\n",
      "Google Maps - Navigation & Transit: 154911\n",
      "Geocaching®: 12811\n",
      "CoPilot GPS – Car Navigation & Offline Maps: 3582\n",
      "ImmobilienScout24: Real Estate Search in Germany: 187\n",
      "Railway Route Search: 5\n"
     ]
    }
   ],
   "source": [
    "for row in ios_data:\n",
    "    if row[-5] == 'Navigation':\n",
    "        print('{0[1]}: {0[5]}'.format(row))"
   ]
  },
  {
   "cell_type": "markdown",
   "metadata": {},
   "source": [
    "On average, `Navigation` apps have the highest number of user reviews. But this figure is heavily influenced by `Waze` and `Google Maps`, which as around `500000` user reviews together.  \n",
    "  \n",
    "The same pattern applies to `Social Networking` apps, where average user reviews is heavily influenced by popular apps like `Facebook`, `Instagram`, `Pinterest`, `Skype` etc. Same applies to music apps, where `Pandora`, `Spotify`, `Shazam` heavily influence average ratings.  \n",
    "  \n",
    "Our aim is to find popular genres, but `Navigation`, `Social Networking` or `Music` apps might seem more popular than they really are. The average number of ratings seem to be skewed by very few apps which have hundreds of thousands of user ratings, while the other apps may struggle to get past the 10,000 threshold. We could get a better picture by removing these extremely popular apps for each genre and then rework the averages."
   ]
  },
  {
   "cell_type": "code",
   "execution_count": 31,
   "metadata": {},
   "outputs": [
    {
     "name": "stdout",
     "output_type": "stream",
     "text": [
      "Bible: 985920\n",
      "Dictionary.com Dictionary & Thesaurus: 200047\n",
      "Dictionary.com Dictionary & Thesaurus for iPad: 54175\n",
      "Google Translate: 26786\n",
      "Muslim Pro: Ramadan 2017 Prayer Times, Azan, Quran: 18418\n",
      "New Furniture Mods - Pocket Wiki & Game Tools for Minecraft PC Edition: 17588\n",
      "Merriam-Webster Dictionary: 16849\n",
      "Night Sky: 12122\n",
      "City Maps for Minecraft PE - The Best Maps for Minecraft Pocket Edition (MCPE): 8535\n",
      "LUCKY BLOCK MOD ™ for Minecraft PC Edition - The Best Pocket Wiki & Mods Installer Tools: 4693\n",
      "GUNS MODS for Minecraft PC Edition - Mods Tools: 1497\n",
      "Guides for Pokémon GO - Pokemon GO News and Cheats: 826\n",
      "WWDC: 762\n",
      "Horror Maps for Minecraft PE - Download The Scariest Maps for Minecraft Pocket Edition (MCPE) Free: 718\n",
      "VPN Express: 14\n",
      "Real Bike Traffic Rider Virtual Reality Glasses: 8\n",
      "教えて!goo: 0\n",
      "Jishokun-Japanese English Dictionary & Translator: 0\n"
     ]
    }
   ],
   "source": [
    "for row in ios_data:\n",
    "    if row[-5] == 'Reference':\n",
    "        print('{0[1]}: {0[5]}'.format(row))"
   ]
  },
  {
   "cell_type": "markdown",
   "metadata": {},
   "source": [
    "`Reference` apps has around `75000` average user ratings, but it is actually the `Bible` and `Dictionary.com` which skew up the user ratings.  \n",
    "  \n",
    "However, this niche seems to show some potential. One thing we could do is take another popular book and turn it into an app where we could add different features besides the raw version of the book. This might include daily quotes from the book, an audio version of the book, quizzes about the book, etc. On top of that, we could also embed a dictionary within the app, so users don't need to exit our app to look up words in an external app.  \n",
    "  \n",
    "This idea seems to fit well with the fact that the App Store is dominated by for-fun apps. This suggests the market might be a bit saturated with for-fun apps, which means a practical app might have more of a chance to stand out among the huge number of apps on the App Store.  \n",
    "  \n",
    "Other genres that seem popular include weather, book, food and drink, or finance. The book genre seem to overlap a bit with the app idea we described above, but the other genres don't seem too interesting to us:\n",
    "* `Weather` apps: People generally don't spend too much time in-app, and the chances of making profit from in-app adds are low. Also, getting reliable live weather data may require us to connect our apps to non-free APIs.\n",
    "* `Food & Drink` apps: Examples here include `Starbucks`, `Dunkin' Donuts`, `McDonald's`, etc. So making a popular food and drink app requires actual cooking and a delivery service, which is outside the scope.\n",
    "* `Finance` apps: These apps involve banking, paying bills, money transfer, etc. Building a finance app requires domain knowledge.  \n",
    "  \n",
    "Now let's analyze the Google Play market.  \n",
    "  \n",
    "#### Most popular apps by genre on Google Play:  \n",
    "For the Google Play market, we actually have data about the number of installs, so we will be able to get a clearer picture about genre popularity. However, the install numbers don't seem precise enough, we can see that most values are open-ended (100+, 1,000+, 5,000+, etc.):"
   ]
  },
  {
   "cell_type": "code",
   "execution_count": 32,
   "metadata": {},
   "outputs": [
    {
     "name": "stdout",
     "output_type": "stream",
     "text": [
      "1,000,000+ : 15.73\n",
      "100,000+ : 11.55\n",
      "10,000,000+ : 10.55\n",
      "10,000+ : 10.20\n",
      "1,000+ : 8.39\n",
      "100+ : 6.92\n",
      "5,000,000+ : 6.83\n",
      "500,000+ : 5.56\n",
      "50,000+ : 4.77\n",
      "5,000+ : 4.51\n",
      "10+ : 3.54\n",
      "500+ : 3.25\n",
      "50,000,000+ : 2.30\n",
      "100,000,000+ : 2.13\n",
      "50+ : 1.92\n",
      "5+ : 0.79\n",
      "1+ : 0.51\n",
      "500,000,000+ : 0.27\n",
      "1,000,000,000+ : 0.23\n",
      "0+ : 0.05\n",
      "0 : 0.01\n"
     ]
    }
   ],
   "source": [
    "install_freq = frequency_table(android_data, 5)\n",
    "display_table(install_freq)"
   ]
  },
  {
   "cell_type": "markdown",
   "metadata": {},
   "source": [
    "One problem with this data is that is not precise. For instance, we don't know whether an app with 100,000+ installs has 100,000 installs, 200,000, or 350,000. However, we don't need very precise data for our purposes, we only want to get an idea which app genres attract the most users, and we don't need perfect precision with respect to the number of users.  \n",
    "  \n",
    "We're going to leave the numbers as they are, which means that we'll consider that an app with 100,000+ installs has 100,000 installs, and an app with 1,000,000+ installs has 1,000,000 installs, and so on.  \n",
    "  \n",
    "To perform computations, however,\n",
    "* We'll need to convert each install number to float.\n",
    "* This means that we need to remove the commas and the plus characters.  \n",
    "We also compute the average number of installs for each genre (`Category`)."
   ]
  },
  {
   "cell_type": "code",
   "execution_count": 33,
   "metadata": {},
   "outputs": [],
   "source": [
    "def installs_per_genre(dataset, freq_table):\n",
    "    avg_installs = dict()\n",
    "    \n",
    "    for category in freq_table:\n",
    "        total_install = 0\n",
    "        category_len = 0\n",
    "        \n",
    "        for row in dataset:\n",
    "            app_category = row[1]\n",
    "            if app_category == category:\n",
    "                install = row[5]\n",
    "                for char in [',', '+']:\n",
    "                    install = install.replace(char, '')\n",
    "                total_install += float(install)\n",
    "                category_len += 1\n",
    "        avg = total_install/category_len\n",
    "        avg_installs[category] = avg\n",
    "    \n",
    "    return avg_installs"
   ]
  },
  {
   "cell_type": "code",
   "execution_count": 34,
   "metadata": {
    "scrolled": true
   },
   "outputs": [
    {
     "name": "stdout",
     "output_type": "stream",
     "text": [
      "COMMUNICATION : 38456119.17\n",
      "VIDEO_PLAYERS : 24727872.45\n",
      "SOCIAL : 23253652.13\n",
      "PHOTOGRAPHY : 17840110.40\n",
      "PRODUCTIVITY : 16787331.34\n",
      "GAME : 15588015.60\n",
      "TRAVEL_AND_LOCAL : 13984077.71\n",
      "ENTERTAINMENT : 11640705.88\n",
      "TOOLS : 10801391.30\n",
      "NEWS_AND_MAGAZINES : 9549178.47\n",
      "BOOKS_AND_REFERENCE : 8767811.89\n",
      "SHOPPING : 7036877.31\n",
      "PERSONALIZATION : 5201482.61\n",
      "WEATHER : 5074486.20\n",
      "HEALTH_AND_FITNESS : 4188821.99\n",
      "MAPS_AND_NAVIGATION : 4056941.77\n",
      "FAMILY : 3695641.82\n",
      "SPORTS : 3638640.14\n",
      "ART_AND_DESIGN : 1986335.09\n",
      "FOOD_AND_DRINK : 1924897.74\n",
      "EDUCATION : 1833495.15\n",
      "BUSINESS : 1712290.15\n",
      "LIFESTYLE : 1437816.27\n",
      "FINANCE : 1387692.48\n",
      "HOUSE_AND_HOME : 1331540.56\n",
      "DATING : 854028.83\n",
      "COMICS : 817657.27\n",
      "AUTO_AND_VEHICLES : 647317.82\n",
      "LIBRARIES_AND_DEMO : 638503.73\n",
      "PARENTING : 542603.62\n",
      "BEAUTY : 513151.89\n",
      "EVENTS : 253542.22\n",
      "MEDICAL : 120550.62\n"
     ]
    }
   ],
   "source": [
    "category_freq = frequency_table(android_data, 1) # column 'Category'\n",
    "android_install = installs_per_genre(android_data, category_freq)\n",
    "display_table(android_install)"
   ]
  },
  {
   "cell_type": "markdown",
   "metadata": {},
   "source": [
    "On average, communication apps have more installs: `38456119`. This number is heavily skewed up by a dew apps that have over `1,000,000` installs like `WhatsApp`, `Facebook Messenger`, `Skype`, `Google Chrome`, `Gmail`, `Hangout` and few others with over `500,000,000` and `100,000,000` installs."
   ]
  },
  {
   "cell_type": "code",
   "execution_count": 35,
   "metadata": {
    "scrolled": true
   },
   "outputs": [
    {
     "name": "stdout",
     "output_type": "stream",
     "text": [
      "WhatsApp Messenger: 1,000,000,000+\n",
      "imo beta free calls and text: 100,000,000+\n",
      "Android Messages: 100,000,000+\n",
      "Google Duo - High Quality Video Calls: 500,000,000+\n",
      "Messenger – Text and Video Chat for Free: 1,000,000,000+\n",
      "imo free video calls and chat: 500,000,000+\n",
      "Skype - free IM & video calls: 1,000,000,000+\n",
      "Who: 100,000,000+\n",
      "GO SMS Pro - Messenger, Free Themes, Emoji: 100,000,000+\n",
      "LINE: Free Calls & Messages: 500,000,000+\n",
      "Google Chrome: Fast & Secure: 1,000,000,000+\n",
      "Firefox Browser fast & private: 100,000,000+\n",
      "UC Browser - Fast Download Private & Secure: 500,000,000+\n",
      "Gmail: 1,000,000,000+\n",
      "Hangouts: 1,000,000,000+\n",
      "Messenger Lite: Free Calls & Messages: 100,000,000+\n",
      "Kik: 100,000,000+\n",
      "KakaoTalk: Free Calls & Text: 100,000,000+\n",
      "Opera Mini - fast web browser: 100,000,000+\n",
      "Opera Browser: Fast and Secure: 100,000,000+\n",
      "Telegram: 100,000,000+\n",
      "Truecaller: Caller ID, SMS spam blocking & Dialer: 100,000,000+\n",
      "UC Browser Mini -Tiny Fast Private & Secure: 100,000,000+\n",
      "Viber Messenger: 500,000,000+\n",
      "WeChat: 100,000,000+\n",
      "Yahoo Mail – Stay Organized: 100,000,000+\n",
      "BBM - Free Calls & Messages: 100,000,000+\n"
     ]
    }
   ],
   "source": [
    "for row in android_data:\n",
    "    if row[1] == 'COMMUNICATION' and (row[5] in ['1,000,000,000+', '500,000,000+', '100,000,000+']):\n",
    "        print('{0[0]}: {0[5]}'.format(row))"
   ]
  },
  {
   "cell_type": "markdown",
   "metadata": {},
   "source": [
    "If we removed all the communication apps that have over `100000000` installs, the average would be reduced roughly ten times:"
   ]
  },
  {
   "cell_type": "code",
   "execution_count": 36,
   "metadata": {},
   "outputs": [
    {
     "name": "stdout",
     "output_type": "stream",
     "text": [
      "3603485.39\n"
     ]
    }
   ],
   "source": [
    "under_100m = list()\n",
    "\n",
    "for row in android_data:\n",
    "    app = row[1]\n",
    "    if app == 'COMMUNICATION':\n",
    "        install = row[5]\n",
    "        for char in [',', '+']:\n",
    "            install = install.replace(char, '')\n",
    "        if float(install) < 100000000:\n",
    "            under_100m.append(float(install))\n",
    "avg = sum(under_100m) / len(under_100m)\n",
    "print('{:.2f}'.format(avg))"
   ]
  },
  {
   "cell_type": "markdown",
   "metadata": {},
   "source": [
    "We see the same pattern for the `Video Players` category, with `24727872` installs. The market is dominated by apps like `Youtube`, `Google Play Movies & TV`, or `MX Player`. The pattern is repeated for `Social` apps (where we have `Facebook`, `Instagram`, `Google+`, etc.), `Photography` apps (`Google Photos` and other popular photo editors), or `Productivity` apps (`Microsoft Word`, `Dropbox`, `Google Calendar`, `Evernote`, etc.).  \n",
    "  \n",
    "Again, the main concern is that these app genres might seem more popular than they really are. Moreover, these niches seem to be dominated by a few giants who are hard to compete against.  \n",
    "  \n",
    "The `Game` genre seems pretty popular, but previously we found out this part of the market seems a bit saturated, so we'd like to come up with a different app recommendation if possible.\n",
    "\n",
    "The `Books and Reference` genre looks fairly popular as well, with an average installs of `8767811`. It's interesting to explore this in more depth, since we found this genre has some potential to work well on the App Store, and our aim is to recommend an app genre that shows potential for being profitable on both the App Store and Google Play.\n",
    "\n",
    "Let's take a look at some of the apps from this genre and their number of installs:"
   ]
  },
  {
   "cell_type": "code",
   "execution_count": 37,
   "metadata": {},
   "outputs": [
    {
     "name": "stdout",
     "output_type": "stream",
     "text": [
      "E-Book Read - Read Book for free: 50,000+\n",
      "Download free book with green book: 100,000+\n",
      "Wikipedia: 10,000,000+\n",
      "Cool Reader: 10,000,000+\n",
      "Free Panda Radio Music: 100,000+\n",
      "Book store: 1,000,000+\n",
      "FBReader: Favorite Book Reader: 10,000,000+\n",
      "English Grammar Complete Handbook: 500,000+\n",
      "Free Books - Spirit Fanfiction and Stories: 1,000,000+\n",
      "Google Play Books: 1,000,000,000+\n",
      "AlReader -any text book reader: 5,000,000+\n",
      "Offline English Dictionary: 100,000+\n",
      "Offline: English to Tagalog Dictionary: 500,000+\n",
      "FamilySearch Tree: 1,000,000+\n",
      "Cloud of Books: 1,000,000+\n",
      "Recipes of Prophetic Medicine for free: 500,000+\n",
      "ReadEra – free ebook reader: 1,000,000+\n",
      "Anonymous caller detection: 10,000+\n",
      "Ebook Reader: 5,000,000+\n",
      "Litnet - E-books: 100,000+\n",
      "Read books online: 5,000,000+\n",
      "English to Urdu Dictionary: 500,000+\n",
      "eBoox: book reader fb2 epub zip: 1,000,000+\n",
      "English Persian Dictionary: 500,000+\n",
      "Flybook: 500,000+\n",
      "All Maths Formulas: 1,000,000+\n",
      "Ancestry: 5,000,000+\n",
      "HTC Help: 10,000,000+\n",
      "English translation from Bengali: 100,000+\n",
      "Pdf Book Download - Read Pdf Book: 100,000+\n",
      "Free Book Reader: 100,000+\n",
      "eBoox new: Reader for fb2 epub zip books: 50,000+\n",
      "Only 30 days in English, the guideline is guaranteed: 500,000+\n",
      "Moon+ Reader: 10,000,000+\n",
      "SH-02J Owner's Manual (Android 8.0): 50,000+\n",
      "English-Myanmar Dictionary: 1,000,000+\n",
      "Golden Dictionary (EN-AR): 1,000,000+\n",
      "All Language Translator Free: 1,000,000+\n",
      "Azpen eReader: 500,000+\n",
      "URBANO V 02 instruction manual: 100,000+\n",
      "Bible: 100,000,000+\n",
      "C Programs and Reference: 50,000+\n",
      "C Offline Tutorial: 1,000+\n",
      "C Programs Handbook: 50,000+\n",
      "Amazon Kindle: 100,000,000+\n",
      "Aab e Hayat Full Novel: 100,000+\n",
      "Aldiko Book Reader: 10,000,000+\n",
      "Google I/O 2018: 500,000+\n",
      "R Language Reference Guide: 10,000+\n",
      "Learn R Programming Full: 5,000+\n",
      "R Programing Offline Tutorial: 1,000+\n",
      "Guide for R Programming: 5+\n",
      "Learn R Programming: 10+\n",
      "R Quick Reference Big Data: 1,000+\n",
      "V Made: 100,000+\n",
      "Wattpad 📖 Free Books: 100,000,000+\n",
      "Dictionary - WordWeb: 5,000,000+\n",
      "Guide (for X-MEN): 100,000+\n",
      "AC Air condition Troubleshoot,Repair,Maintenance: 5,000+\n",
      "AE Bulletins: 1,000+\n",
      "Ae Allah na Dai (Rasa): 10,000+\n",
      "50000 Free eBooks & Free AudioBooks: 5,000,000+\n",
      "Ag PhD Field Guide: 10,000+\n",
      "Ag PhD Deficiencies: 10,000+\n",
      "Ag PhD Planting Population Calculator: 1,000+\n",
      "Ag PhD Soybean Diseases: 1,000+\n",
      "Fertilizer Removal By Crop: 50,000+\n",
      "A-J Media Vault: 50+\n",
      "Al-Quran (Free): 10,000,000+\n",
      "Al Quran (Tafsir & by Word): 500,000+\n",
      "Al Quran Indonesia: 10,000,000+\n",
      "Al'Quran Bahasa Indonesia: 10,000,000+\n",
      "Al Quran Al karim: 1,000,000+\n",
      "Al-Muhaffiz: 50,000+\n",
      "Al Quran : EAlim - Translations & MP3 Offline: 5,000,000+\n",
      "Al-Quran 30 Juz free copies: 500,000+\n",
      "Koran Read &MP3 30 Juz Offline: 1,000,000+\n",
      "Hafizi Quran 15 lines per page: 1,000,000+\n",
      "Quran for Android: 10,000,000+\n",
      "Surah Al-Waqiah: 100,000+\n",
      "Hisnul Al Muslim - Hisn Invocations & Adhkaar: 100,000+\n",
      "Satellite AR: 1,000,000+\n",
      "Audiobooks from Audible: 100,000,000+\n",
      "Kinot & Eichah for Tisha B'Av: 10,000+\n",
      "AW Tozer Devotionals - Daily: 5,000+\n",
      "Tozer Devotional -Series 1: 1,000+\n",
      "The Pursuit of God: 1,000+\n",
      "AY Sing: 5,000+\n",
      "Ay Hasnain k Nana Milad Naat: 10,000+\n",
      "Ay Mohabbat Teri Khatir Novel: 10,000+\n",
      "Arizona Statutes, ARS (AZ Law): 1,000+\n",
      "Oxford A-Z of English Usage: 1,000,000+\n",
      "BD Fishpedia: 1,000+\n",
      "BD All Sim Offer: 10,000+\n",
      "Youboox - Livres, BD et magazines: 500,000+\n",
      "B&H Kids AR: 10,000+\n",
      "B y H Niños ES: 5,000+\n",
      "Dictionary.com: Find Definitions for English Words: 10,000,000+\n",
      "English Dictionary - Offline: 10,000,000+\n",
      "Bible KJV: 5,000,000+\n",
      "Borneo Bible, BM Bible: 10,000+\n",
      "MOD Black for BM: 100+\n",
      "BM Box: 1,000+\n",
      "Anime Mod for BM: 100+\n",
      "NOOK: Read eBooks & Magazines: 10,000,000+\n",
      "NOOK Audiobooks: 500,000+\n",
      "NOOK App for NOOK Devices: 500,000+\n",
      "Browsery by Barnes & Noble: 5,000+\n",
      "bp e-store: 1,000+\n",
      "Brilliant Quotes: Life, Love, Family & Motivation: 1,000,000+\n",
      "BR Ambedkar Biography & Quotes: 10,000+\n",
      "BU Alsace: 100+\n",
      "Catholic La Bu Zo Kam: 500+\n",
      "Khrifa Hla Bu (Solfa): 10+\n",
      "Kristian Hla Bu: 10,000+\n",
      "SA HLA BU: 1,000+\n",
      "Learn SAP BW: 500+\n",
      "Learn SAP BW on HANA: 500+\n",
      "CA Laws 2018 (California Laws and Codes): 5,000+\n",
      "Bootable Methods(USB-CD-DVD): 10,000+\n",
      "cloudLibrary: 100,000+\n",
      "SDA Collegiate Quarterly: 500+\n",
      "Sabbath School: 100,000+\n",
      "Cypress College Library: 100+\n",
      "Stats Royale for Clash Royale: 1,000,000+\n",
      "GATE 21 years CS Papers(2011-2018 Solved): 50+\n",
      "Learn CT Scan Of Head: 5,000+\n",
      "Easy Cv maker 2018: 10,000+\n",
      "How to Write CV: 100,000+\n",
      "CW Nuclear: 1,000+\n",
      "CY Spray nozzle: 10+\n",
      "BibleRead En Cy Zh Yue: 5+\n",
      "CZ-Help: 5+\n",
      "Modlitební knížka CZ: 500+\n",
      "Guide for DB Xenoverse: 10,000+\n",
      "Guide for DB Xenoverse 2: 10,000+\n",
      "Guide for IMS DB: 10+\n",
      "DC HSEMA: 5,000+\n",
      "DC Public Library: 1,000+\n",
      "Painting Lulu DC Super Friends: 1,000+\n",
      "Dictionary: 10,000,000+\n",
      "Fix Error Google Playstore: 1,000+\n",
      "D. H. Lawrence Poems FREE: 1,000+\n",
      "Bilingual Dictionary Audio App: 5,000+\n",
      "DM Screen: 10,000+\n",
      "wikiHow: how to do anything: 1,000,000+\n",
      "Dr. Doug's Tips: 1,000+\n",
      "Bible du Semeur-BDS (French): 50,000+\n",
      "La citadelle du musulman: 50,000+\n",
      "DV 2019 Entry Guide: 10,000+\n",
      "DV 2019 - EDV Photo & Form: 50,000+\n",
      "DV 2018 Winners Guide: 1,000+\n",
      "EB Annual Meetings: 1,000+\n",
      "EC - AP & Telangana: 5,000+\n",
      "TN Patta Citta & EC: 10,000+\n",
      "AP Stamps and Registration: 10,000+\n",
      "CompactiMa EC pH Calibration: 100+\n",
      "EGW Writings 2: 100,000+\n",
      "EGW Writings: 1,000,000+\n",
      "Bible with EGW Comments: 100,000+\n",
      "My Little Pony AR Guide: 1,000,000+\n",
      "SDA Sabbath School Quarterly: 500,000+\n",
      "Duaa Ek Ibaadat: 5,000+\n",
      "Spanish English Translator: 10,000,000+\n",
      "Dictionary - Merriam-Webster: 10,000,000+\n",
      "JW Library: 10,000,000+\n",
      "Oxford Dictionary of English : Free: 10,000,000+\n",
      "English Hindi Dictionary: 10,000,000+\n",
      "English to Hindi Dictionary: 5,000,000+\n",
      "EP Research Service: 1,000+\n",
      "Hymnes et Louanges: 100,000+\n",
      "EU Charter: 1,000+\n",
      "EU Data Protection: 1,000+\n",
      "EU IP Codes: 100+\n",
      "EW PDF: 5+\n",
      "BakaReader EX: 100,000+\n",
      "EZ Quran: 50,000+\n",
      "FA Part 1 & 2 Past Papers Solved Free – Offline: 5,000+\n",
      "La Fe de Jesus: 1,000+\n",
      "La Fe de Jesús: 500+\n",
      "Le Fe de Jesus: 500+\n",
      "Florida - Pocket Brainbook: 1,000+\n",
      "Florida Statutes (FL Code): 1,000+\n",
      "English To Shona Dictionary: 10,000+\n",
      "Greek Bible FP (Audio): 1,000+\n",
      "Golden Dictionary (FR-AR): 500,000+\n",
      "Fanfic-FR: 5,000+\n",
      "Bulgarian French Dictionary Fr: 10,000+\n",
      "Chemin (fr): 1,000+\n",
      "The SCP Foundation DB fr nn5n: 1,000+\n"
     ]
    }
   ],
   "source": [
    "for row in android_data:\n",
    "    if row[1] == 'BOOKS_AND_REFERENCE':\n",
    "        print('{0[0]}: {0[5]}'.format(row))"
   ]
  },
  {
   "cell_type": "markdown",
   "metadata": {},
   "source": [
    "The `Books and Reference` genre includes a variety of apps: software for processing and reading eBooks, various collection of libraries, dictionaries, tutorials on programming languages, etc. It seems there's still a small number of extremely popular apps that skew the average."
   ]
  },
  {
   "cell_type": "code",
   "execution_count": 38,
   "metadata": {},
   "outputs": [
    {
     "name": "stdout",
     "output_type": "stream",
     "text": [
      "Google Play Books : 1,000,000,000+\n",
      "Bible : 100,000,000+\n",
      "Amazon Kindle : 100,000,000+\n",
      "Wattpad 📖 Free Books : 100,000,000+\n",
      "Audiobooks from Audible : 100,000,000+\n"
     ]
    }
   ],
   "source": [
    "for app in android_data:\n",
    "    if app[1] == 'BOOKS_AND_REFERENCE' and (app[5] == '1,000,000,000+'\n",
    "                                            or app[5] == '500,000,000+'\n",
    "                                            or app[5] == '100,000,000+'):\n",
    "        print(app[0], ':', app[5])"
   ]
  },
  {
   "cell_type": "markdown",
   "metadata": {},
   "source": [
    "However, it looks like there are only a few very popular apps, so this market still shows potential. Let's try to get some app ideas based on the kind of apps that are somewhere in the middle in terms of popularity."
   ]
  },
  {
   "cell_type": "code",
   "execution_count": 39,
   "metadata": {},
   "outputs": [
    {
     "name": "stdout",
     "output_type": "stream",
     "text": [
      "Wikipedia : 10,000,000+\n",
      "Cool Reader : 10,000,000+\n",
      "Book store : 1,000,000+\n",
      "FBReader: Favorite Book Reader : 10,000,000+\n",
      "Free Books - Spirit Fanfiction and Stories : 1,000,000+\n",
      "AlReader -any text book reader : 5,000,000+\n",
      "FamilySearch Tree : 1,000,000+\n",
      "Cloud of Books : 1,000,000+\n",
      "ReadEra – free ebook reader : 1,000,000+\n",
      "Ebook Reader : 5,000,000+\n",
      "Read books online : 5,000,000+\n",
      "eBoox: book reader fb2 epub zip : 1,000,000+\n",
      "All Maths Formulas : 1,000,000+\n",
      "Ancestry : 5,000,000+\n",
      "HTC Help : 10,000,000+\n",
      "Moon+ Reader : 10,000,000+\n",
      "English-Myanmar Dictionary : 1,000,000+\n",
      "Golden Dictionary (EN-AR) : 1,000,000+\n",
      "All Language Translator Free : 1,000,000+\n",
      "Aldiko Book Reader : 10,000,000+\n",
      "Dictionary - WordWeb : 5,000,000+\n",
      "50000 Free eBooks & Free AudioBooks : 5,000,000+\n",
      "Al-Quran (Free) : 10,000,000+\n",
      "Al Quran Indonesia : 10,000,000+\n",
      "Al'Quran Bahasa Indonesia : 10,000,000+\n",
      "Al Quran Al karim : 1,000,000+\n",
      "Al Quran : EAlim - Translations & MP3 Offline : 5,000,000+\n",
      "Koran Read &MP3 30 Juz Offline : 1,000,000+\n",
      "Hafizi Quran 15 lines per page : 1,000,000+\n",
      "Quran for Android : 10,000,000+\n",
      "Satellite AR : 1,000,000+\n",
      "Oxford A-Z of English Usage : 1,000,000+\n",
      "Dictionary.com: Find Definitions for English Words : 10,000,000+\n",
      "English Dictionary - Offline : 10,000,000+\n",
      "Bible KJV : 5,000,000+\n",
      "NOOK: Read eBooks & Magazines : 10,000,000+\n",
      "Brilliant Quotes: Life, Love, Family & Motivation : 1,000,000+\n",
      "Stats Royale for Clash Royale : 1,000,000+\n",
      "Dictionary : 10,000,000+\n",
      "wikiHow: how to do anything : 1,000,000+\n",
      "EGW Writings : 1,000,000+\n",
      "My Little Pony AR Guide : 1,000,000+\n",
      "Spanish English Translator : 10,000,000+\n",
      "Dictionary - Merriam-Webster : 10,000,000+\n",
      "JW Library : 10,000,000+\n",
      "Oxford Dictionary of English : Free : 10,000,000+\n",
      "English Hindi Dictionary : 10,000,000+\n",
      "English to Hindi Dictionary : 5,000,000+\n"
     ]
    }
   ],
   "source": [
    "for app in android_data:\n",
    "    if app[1] == 'BOOKS_AND_REFERENCE' and (app[5] == '1,000,000+'\n",
    "                                            or app[5] == '5,000,000+'\n",
    "                                            or app[5] == '10,000,000+'\n",
    "                                            or app[5] == '50,000,000+'):\n",
    "        print(app[0], ':', app[5])"
   ]
  },
  {
   "cell_type": "markdown",
   "metadata": {},
   "source": [
    "This seems to be dominated by software for processing and reading eBooks, as well as collection of various libraries and dictionaries, so it is not probably a good idea to build similar apps.\n",
    "  \n",
    "We also notice there are quite a few apps built around the book Quran, which suggests that building an app around a popular book can be profitable. It seems that taking a popular book and turning it into an app could be profitable for both the Google Play and the App Store markets.\n",
    "  \n",
    "We also notice there are quite a few apps built around the book Quran, which suggests that building an app around a popular book can be profitable. It seems that taking a popular book (perhaps a more recent book) and turning it into an app could be profitable for both the Google Play and the App Store markets.\n",
    "  \n",
    "### Conclusion:\n",
    "In this project, we analyzed data about the App Store and Google Play mobile apps with the goal of recommending an app profile that can be profitable for both markets.\n",
    "  \n",
    "We concluded that taking a popular book (perhaps a more recent book) and turning it into an app could be profitable for both the Google Play and the App Store markets. The markets are already full of libraries, so we need to add some special features besides the raw version of the book. This might include daily quotes from the book, an audio version of the book, quizzes on the book, a forum where people can discuss the book, etc."
   ]
  }
 ],
 "metadata": {
  "kernelspec": {
   "display_name": "Python 3",
   "language": "python",
   "name": "python3"
  },
  "language_info": {
   "codemirror_mode": {
    "name": "ipython",
    "version": 3
   },
   "file_extension": ".py",
   "mimetype": "text/x-python",
   "name": "python",
   "nbconvert_exporter": "python",
   "pygments_lexer": "ipython3",
   "version": "3.7.4"
  },
  "toc": {
   "base_numbering": 1,
   "nav_menu": {},
   "number_sections": true,
   "sideBar": true,
   "skip_h1_title": false,
   "title_cell": "Table of Contents",
   "title_sidebar": "Contents",
   "toc_cell": false,
   "toc_position": {},
   "toc_section_display": true,
   "toc_window_display": false
  },
  "varInspector": {
   "cols": {
    "lenName": 16,
    "lenType": 16,
    "lenVar": 40
   },
   "kernels_config": {
    "python": {
     "delete_cmd_postfix": "",
     "delete_cmd_prefix": "del ",
     "library": "var_list.py",
     "varRefreshCmd": "print(var_dic_list())"
    },
    "r": {
     "delete_cmd_postfix": ") ",
     "delete_cmd_prefix": "rm(",
     "library": "var_list.r",
     "varRefreshCmd": "cat(var_dic_list()) "
    }
   },
   "types_to_exclude": [
    "module",
    "function",
    "builtin_function_or_method",
    "instance",
    "_Feature"
   ],
   "window_display": false
  }
 },
 "nbformat": 4,
 "nbformat_minor": 2
}
