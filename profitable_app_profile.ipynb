{
 "cells": [
  {
   "cell_type": "markdown",
   "metadata": {},
   "source": [
    "### Introduction:  \n",
    "Our aim in this project is to find mobile app profiles that are profitable for the Google Play and App Store markets.  \n",
    "  \n",
    "We will analyze the apps that are free to download and install, and the main source of revenue for these apps consists of in-app ads. This means that revenue of any given free app is mostly influenced by number of users that use app. Our goal for this project is to analyze data to help to understand what kinds of apps are likely to attract more users."
   ]
  },
  {
   "cell_type": "markdown",
   "metadata": {},
   "source": [
    "#### Reading a CSV file and separating data from header:"
   ]
  },
  {
   "cell_type": "code",
   "execution_count": 1,
   "metadata": {},
   "outputs": [],
   "source": [
    "import csv"
   ]
  },
  {
   "cell_type": "code",
   "execution_count": 2,
   "metadata": {},
   "outputs": [],
   "source": [
    "def read_csv_file(filename):\n",
    "    with open(filename, encoding='utf8') as fd:\n",
    "        all_data = list(csv.reader(fd))\n",
    "        header = all_data[0]\n",
    "        data = all_data[1:]\n",
    "    \n",
    "    return header, data"
   ]
  },
  {
   "cell_type": "code",
   "execution_count": 3,
   "metadata": {},
   "outputs": [
    {
     "name": "stdout",
     "output_type": "stream",
     "text": [
      "Total length: 10841\n",
      "Android data:\n",
      "['Photo Editor & Candy Camera & Grid & ScrapBook', 'ART_AND_DESIGN', '4.1', '159', '19M', '10,000+', 'Free', '0', 'Everyone', 'Art & Design', 'January 7, 2018', '1.0.0', '4.0.3 and up']\n",
      "['Coloring book moana', 'ART_AND_DESIGN', '3.9', '967', '14M', '500,000+', 'Free', '0', 'Everyone', 'Art & Design;Pretend Play', 'January 15, 2018', '2.0.0', '4.0.3 and up']\n",
      "['U Launcher Lite – FREE Live Cool Themes, Hide Apps', 'ART_AND_DESIGN', '4.7', '87510', '8.7M', '5,000,000+', 'Free', '0', 'Everyone', 'Art & Design', 'August 1, 2018', '1.2.4', '4.0.3 and up']\n",
      "['Sketch - Draw & Paint', 'ART_AND_DESIGN', '4.5', '215644', '25M', '50,000,000+', 'Free', '0', 'Teen', 'Art & Design', 'June 8, 2018', 'Varies with device', '4.2 and up']\n",
      "['Pixel Draw - Number Art Coloring Book', 'ART_AND_DESIGN', '4.3', '967', '2.8M', '100,000+', 'Free', '0', 'Everyone', 'Art & Design;Creativity', 'June 20, 2018', '1.1', '4.4 and up']\n"
     ]
    }
   ],
   "source": [
    "android_header, android_data = read_csv_file('googleplaystore.csv')\n",
    "print('Total length: {}'.format(len(android_data)))\n",
    "print('Android data:')\n",
    "for row in android_data[:5]:\n",
    "    print(row)"
   ]
  },
  {
   "cell_type": "code",
   "execution_count": 4,
   "metadata": {},
   "outputs": [
    {
     "name": "stdout",
     "output_type": "stream",
     "text": [
      "Total length: 7197\n",
      "iOS data:\n",
      "['1', '281656475', 'PAC-MAN Premium', '100788224', 'USD', '3.99', '21292', '26', '4', '4.5', '6.3.5', '4+', 'Games', '38', '5', '10', '1']\n",
      "['2', '281796108', 'Evernote - stay organized', '158578688', 'USD', '0', '161065', '26', '4', '3.5', '8.2.2', '4+', 'Productivity', '37', '5', '23', '1']\n",
      "['3', '281940292', 'WeatherBug - Local Weather, Radar, Maps, Alerts', '100524032', 'USD', '0', '188583', '2822', '3.5', '4.5', '5.0.0', '4+', 'Weather', '37', '5', '3', '1']\n",
      "['4', '282614216', 'eBay: Best App to Buy, Sell, Save! Online Shopping', '128512000', 'USD', '0', '262241', '649', '4', '4.5', '5.10.0', '12+', 'Shopping', '37', '5', '9', '1']\n",
      "['5', '282935706', 'Bible', '92774400', 'USD', '0', '985920', '5320', '4.5', '5', '7.5.1', '4+', 'Reference', '37', '5', '45', '1']\n"
     ]
    }
   ],
   "source": [
    "ios_header, ios_data = read_csv_file('AppleStore.csv')\n",
    "print('Total length: {}'.format(len(ios_data)))\n",
    "print('iOS data:')\n",
    "for row in ios_data[:5]:\n",
    "    print(row)"
   ]
  },
  {
   "cell_type": "markdown",
   "metadata": {},
   "source": [
    "#### Deleting wrong data:  \n",
    "From the [discussion section](https://www.kaggle.com/lava18/google-play-store-apps/discussion) of Google Play dataset, we can see that [this discussion](https://www.kaggle.com/lava18/google-play-store-apps/discussion/66015) outlines an error for row 10472."
   ]
  },
  {
   "cell_type": "code",
   "execution_count": 5,
   "metadata": {},
   "outputs": [
    {
     "name": "stdout",
     "output_type": "stream",
     "text": [
      "['Life Made WI-Fi Touchscreen Photo Frame', '1.9', '19', '3.0M', '1,000+', 'Free', '0', 'Everyone', '', 'February 11, 2018', '1.0.19', '4.0 and up']\n"
     ]
    }
   ],
   "source": [
    "print(android_data[10472])"
   ]
  },
  {
   "cell_type": "code",
   "execution_count": 6,
   "metadata": {},
   "outputs": [],
   "source": [
    "del android_data[10472]"
   ]
  },
  {
   "cell_type": "code",
   "execution_count": 7,
   "metadata": {
    "scrolled": true
   },
   "outputs": [
    {
     "name": "stdout",
     "output_type": "stream",
     "text": [
      "['osmino Wi-Fi: free WiFi', 'TOOLS', '4.2', '134203', '4.1M', '10,000,000+', 'Free', '0', 'Everyone', 'Tools', 'August 7, 2018', '6.06.14', '4.4 and up']\n"
     ]
    }
   ],
   "source": [
    "print(android_data[10472])"
   ]
  },
  {
   "cell_type": "markdown",
   "metadata": {},
   "source": [
    "#### Removing duplicate entries:  \n",
    "As we explore the Google Play dataset further, we will find that some apps have more than one entry. For example, Instagram has 4 entries."
   ]
  },
  {
   "cell_type": "code",
   "execution_count": 8,
   "metadata": {},
   "outputs": [
    {
     "name": "stdout",
     "output_type": "stream",
     "text": [
      "['Instagram', 'SOCIAL', '4.5', '66577313', 'Varies with device', '1,000,000,000+', 'Free', '0', 'Teen', 'Social', 'July 31, 2018', 'Varies with device', 'Varies with device']\n",
      "['Instagram', 'SOCIAL', '4.5', '66577446', 'Varies with device', '1,000,000,000+', 'Free', '0', 'Teen', 'Social', 'July 31, 2018', 'Varies with device', 'Varies with device']\n",
      "['Instagram', 'SOCIAL', '4.5', '66577313', 'Varies with device', '1,000,000,000+', 'Free', '0', 'Teen', 'Social', 'July 31, 2018', 'Varies with device', 'Varies with device']\n",
      "['Instagram', 'SOCIAL', '4.5', '66509917', 'Varies with device', '1,000,000,000+', 'Free', '0', 'Teen', 'Social', 'July 31, 2018', 'Varies with device', 'Varies with device']\n"
     ]
    }
   ],
   "source": [
    "for row in android_data:\n",
    "    if row[0] == 'Instagram':\n",
    "        print(row)"
   ]
  },
  {
   "cell_type": "code",
   "execution_count": 9,
   "metadata": {},
   "outputs": [],
   "source": [
    "def check_duplicate_data(dataset, name_ind):\n",
    "    unique_apps = list()\n",
    "    duplicate_apps = list()\n",
    "    \n",
    "    for row in dataset:\n",
    "        app_name = row[name_ind]\n",
    "        if app_name in unique_apps:\n",
    "            duplicate_apps.append(app_name)\n",
    "        else:\n",
    "            unique_apps.append(app_name)\n",
    "    \n",
    "    return len(duplicate_apps)"
   ]
  },
  {
   "cell_type": "code",
   "execution_count": 10,
   "metadata": {},
   "outputs": [],
   "source": [
    "# Another way to check duplicate entries using sets\n",
    "def check_duplicate_entries(dataset, name_ind):\n",
    "    unique_apps = set()\n",
    "    \n",
    "    for row in dataset:\n",
    "        unique_apps.add(row[name_ind])\n",
    "    \n",
    "    return len(dataset) - len(unique_apps)"
   ]
  },
  {
   "cell_type": "code",
   "execution_count": 11,
   "metadata": {
    "scrolled": false
   },
   "outputs": [
    {
     "name": "stdout",
     "output_type": "stream",
     "text": [
      "Number of duplicate apps in Google Play dataset: 1181\n"
     ]
    }
   ],
   "source": [
    "print('Number of duplicate apps in Google Play dataset: {}'.format(check_duplicate_data(android_data, 0)))"
   ]
  },
  {
   "cell_type": "code",
   "execution_count": 12,
   "metadata": {},
   "outputs": [
    {
     "name": "stdout",
     "output_type": "stream",
     "text": [
      "Number of duplicate apps is AppStore dataset: 2\n"
     ]
    }
   ],
   "source": [
    "print('Number of duplicate apps is AppStore dataset: {}'.format(check_duplicate_data(ios_data, 2)))"
   ]
  },
  {
   "cell_type": "markdown",
   "metadata": {},
   "source": [
    "In total there are ```1181``` duplicate app entries in Google Play dataset.  \n",
    "We don't want to count certain apps more than once when we analyze data, so we need to remove the duplicate entries and keep only one entry per app.  \n",
    "  \n",
    "When we examine duplicate entries of Instagram, the main difference happens on 4th column of each row, which corresponds to the number of reviews. The different numtbers show that the data was collected at different times. We can use this to build a criterion for keeping rows. We will keep the rows that have the highest number of reviews because the higher the number of reviews, the more reliable the ratings.  \n",
    "  \n",
    "To remove the duplicate entries, we will:\n",
    "* Create a dictionary where each key is an unique app name, and the value is the highest number of reviews of that app.\n",
    "* Use the above created dictionary to create a new dataset, which will have only one entry per app"
   ]
  },
  {
   "cell_type": "code",
   "execution_count": 13,
   "metadata": {},
   "outputs": [],
   "source": [
    "def remove_duplicate_apps(dataset, name_ind, review_ind):\n",
    "    \n",
    "    if check_duplicate_data(dataset, name_ind) > 0:\n",
    "        reviews_max = dict()\n",
    "    \n",
    "        for row in dataset:\n",
    "            app = row[name_ind]\n",
    "            review = float(row[review_ind])\n",
    "        \n",
    "            if app in reviews_max and reviews_max[app] < review:\n",
    "                reviews_max[app] = review\n",
    "            elif app not in reviews_max:\n",
    "                reviews_max[app] = review\n",
    "\n",
    "        clean_data = list()\n",
    "        already_added = list()\n",
    "    \n",
    "        for row in dataset:\n",
    "            app = row[name_ind]\n",
    "            review = float(row[review_ind])\n",
    "        \n",
    "            if reviews_max[app] == review and (app not in already_added):\n",
    "                clean_data.append(row)\n",
    "                already_added.append(app)\n",
    "    \n",
    "        return clean_data\n",
    "    else:\n",
    "        return dataset"
   ]
  },
  {
   "cell_type": "code",
   "execution_count": 14,
   "metadata": {
    "scrolled": true
   },
   "outputs": [
    {
     "name": "stdout",
     "output_type": "stream",
     "text": [
      "Length after removing duplicates: 9659\n",
      "Android data:\n",
      "['Photo Editor & Candy Camera & Grid & ScrapBook', 'ART_AND_DESIGN', '4.1', '159', '19M', '10,000+', 'Free', '0', 'Everyone', 'Art & Design', 'January 7, 2018', '1.0.0', '4.0.3 and up']\n",
      "['U Launcher Lite – FREE Live Cool Themes, Hide Apps', 'ART_AND_DESIGN', '4.7', '87510', '8.7M', '5,000,000+', 'Free', '0', 'Everyone', 'Art & Design', 'August 1, 2018', '1.2.4', '4.0.3 and up']\n",
      "['Sketch - Draw & Paint', 'ART_AND_DESIGN', '4.5', '215644', '25M', '50,000,000+', 'Free', '0', 'Teen', 'Art & Design', 'June 8, 2018', 'Varies with device', '4.2 and up']\n",
      "['Pixel Draw - Number Art Coloring Book', 'ART_AND_DESIGN', '4.3', '967', '2.8M', '100,000+', 'Free', '0', 'Everyone', 'Art & Design;Creativity', 'June 20, 2018', '1.1', '4.4 and up']\n",
      "['Paper flowers instructions', 'ART_AND_DESIGN', '4.4', '167', '5.6M', '50,000+', 'Free', '0', 'Everyone', 'Art & Design', 'March 26, 2017', '1.0', '2.3 and up']\n"
     ]
    }
   ],
   "source": [
    "android_data = remove_duplicate_apps(android_data, 0, 3)\n",
    "print('Length after removing duplicates: {}'.format(len(android_data)))\n",
    "print('Android data:')\n",
    "for row in android_data[:5]:\n",
    "    print(row)"
   ]
  },
  {
   "cell_type": "code",
   "execution_count": 15,
   "metadata": {},
   "outputs": [
    {
     "name": "stdout",
     "output_type": "stream",
     "text": [
      "Length after removing duplicates: 7195\n",
      "iOS data:\n",
      "['1', '281656475', 'PAC-MAN Premium', '100788224', 'USD', '3.99', '21292', '26', '4', '4.5', '6.3.5', '4+', 'Games', '38', '5', '10', '1']\n",
      "['2', '281796108', 'Evernote - stay organized', '158578688', 'USD', '0', '161065', '26', '4', '3.5', '8.2.2', '4+', 'Productivity', '37', '5', '23', '1']\n",
      "['3', '281940292', 'WeatherBug - Local Weather, Radar, Maps, Alerts', '100524032', 'USD', '0', '188583', '2822', '3.5', '4.5', '5.0.0', '4+', 'Weather', '37', '5', '3', '1']\n",
      "['4', '282614216', 'eBay: Best App to Buy, Sell, Save! Online Shopping', '128512000', 'USD', '0', '262241', '649', '4', '4.5', '5.10.0', '12+', 'Shopping', '37', '5', '9', '1']\n",
      "['5', '282935706', 'Bible', '92774400', 'USD', '0', '985920', '5320', '4.5', '5', '7.5.1', '4+', 'Reference', '37', '5', '45', '1']\n"
     ]
    }
   ],
   "source": [
    "ios_data = remove_duplicate_apps(ios_data, 2, 6)\n",
    "print('Length after removing duplicates: {}'.format(len(ios_data)))\n",
    "print('iOS data:')\n",
    "for row in ios_data[:5]:\n",
    "    print(row)"
   ]
  },
  {
   "cell_type": "markdown",
   "metadata": {},
   "source": [
    "#### Removing non-Enlish apps:  \n",
    "As we explore the datasets even further, we can notice the names of the some of the app suggest that they are not directed towards an English-speaking audience. Below are the example:"
   ]
  },
  {
   "cell_type": "code",
   "execution_count": 16,
   "metadata": {
    "scrolled": true
   },
   "outputs": [
    {
     "name": "stdout",
     "output_type": "stream",
     "text": [
      "中国語 AQリスニング\n",
      "لعبة تقدر تربح DZ\n"
     ]
    }
   ],
   "source": [
    "print(android_data[4412][0])\n",
    "print(android_data[7940][0])"
   ]
  },
  {
   "cell_type": "markdown",
   "metadata": {},
   "source": [
    "We are not interested in keeping these kind of apps, so we will remove them. One way is to, remove each app whose name contains a symbol that is not commonly used in English text - English text usually includes the letters from English alphabet (a-zA-Z), numbers (0-9), punctuations (.,;?! etc), and other symbols (+-* / etc).  \n",
    "  \n",
    "All these characters that are specific to English texts are encoded using the ASCII standards. Each ASCII character has a corresponding number between 0-127 associated with it, and we can take advantage of that to build a function that checks an app name and tell us whether it contains non-ASCII characters.  \n",
    "But some English app name use emojis or other symbols (™, 😜 etc) that fall outside of the ASCII range. To minimize the impact of loss, we will only remove an app if its name has more than 3 non-ASCII characters."
   ]
  },
  {
   "cell_type": "code",
   "execution_count": 17,
   "metadata": {},
   "outputs": [],
   "source": [
    "def is_english(app):\n",
    "    non_ascii_count = 0\n",
    "    \n",
    "    for char in app:\n",
    "        if ord(char) > 127:\n",
    "            non_ascii_count += 1\n",
    "    \n",
    "    if non_ascii_count > 3:\n",
    "        return False\n",
    "    return True"
   ]
  },
  {
   "cell_type": "code",
   "execution_count": 18,
   "metadata": {},
   "outputs": [],
   "source": [
    "def english_dataset(dataset, name_ind):\n",
    "    clean_data = list()\n",
    "    \n",
    "    for row in dataset:\n",
    "        app = row[name_ind]\n",
    "        if is_english(app):\n",
    "            clean_data.append(row)\n",
    "    \n",
    "    return clean_data"
   ]
  },
  {
   "cell_type": "code",
   "execution_count": 19,
   "metadata": {
    "scrolled": true
   },
   "outputs": [
    {
     "name": "stdout",
     "output_type": "stream",
     "text": [
      "Length after removing non-English apps: 9614\n",
      "Android data:\n",
      "['Photo Editor & Candy Camera & Grid & ScrapBook', 'ART_AND_DESIGN', '4.1', '159', '19M', '10,000+', 'Free', '0', 'Everyone', 'Art & Design', 'January 7, 2018', '1.0.0', '4.0.3 and up']\n",
      "['U Launcher Lite – FREE Live Cool Themes, Hide Apps', 'ART_AND_DESIGN', '4.7', '87510', '8.7M', '5,000,000+', 'Free', '0', 'Everyone', 'Art & Design', 'August 1, 2018', '1.2.4', '4.0.3 and up']\n",
      "['Sketch - Draw & Paint', 'ART_AND_DESIGN', '4.5', '215644', '25M', '50,000,000+', 'Free', '0', 'Teen', 'Art & Design', 'June 8, 2018', 'Varies with device', '4.2 and up']\n",
      "['Pixel Draw - Number Art Coloring Book', 'ART_AND_DESIGN', '4.3', '967', '2.8M', '100,000+', 'Free', '0', 'Everyone', 'Art & Design;Creativity', 'June 20, 2018', '1.1', '4.4 and up']\n",
      "['Paper flowers instructions', 'ART_AND_DESIGN', '4.4', '167', '5.6M', '50,000+', 'Free', '0', 'Everyone', 'Art & Design', 'March 26, 2017', '1.0', '2.3 and up']\n"
     ]
    }
   ],
   "source": [
    "android_data = english_dataset(android_data, 0)\n",
    "print('Length after removing non-English apps: {}'.format(len(android_data)))\n",
    "print('Android data:')\n",
    "for row in android_data[:5]:\n",
    "    print(row)"
   ]
  },
  {
   "cell_type": "code",
   "execution_count": 20,
   "metadata": {},
   "outputs": [
    {
     "name": "stdout",
     "output_type": "stream",
     "text": [
      "Length after removing non-English apps: 6181\n",
      "iOS data:\n",
      "['1', '281656475', 'PAC-MAN Premium', '100788224', 'USD', '3.99', '21292', '26', '4', '4.5', '6.3.5', '4+', 'Games', '38', '5', '10', '1']\n",
      "['2', '281796108', 'Evernote - stay organized', '158578688', 'USD', '0', '161065', '26', '4', '3.5', '8.2.2', '4+', 'Productivity', '37', '5', '23', '1']\n",
      "['3', '281940292', 'WeatherBug - Local Weather, Radar, Maps, Alerts', '100524032', 'USD', '0', '188583', '2822', '3.5', '4.5', '5.0.0', '4+', 'Weather', '37', '5', '3', '1']\n",
      "['4', '282614216', 'eBay: Best App to Buy, Sell, Save! Online Shopping', '128512000', 'USD', '0', '262241', '649', '4', '4.5', '5.10.0', '12+', 'Shopping', '37', '5', '9', '1']\n",
      "['5', '282935706', 'Bible', '92774400', 'USD', '0', '985920', '5320', '4.5', '5', '7.5.1', '4+', 'Reference', '37', '5', '45', '1']\n"
     ]
    }
   ],
   "source": [
    "ios_data = english_dataset(ios_data, 2)\n",
    "print('Length after removing non-English apps: {}'.format(len(ios_data)))\n",
    "print('iOS data:')\n",
    "for row in ios_data[:5]:\n",
    "    print(row)"
   ]
  },
  {
   "cell_type": "markdown",
   "metadata": {},
   "source": [
    "#### Isolating the free apps:  \n",
    "As mentioned in the introduction, we will analyze the apps that are free to download and install, and revenue of free apps are in-app ads. Since our dataset contains both free and non-free apps, we will need to isolate only the free apps for our analysis."
   ]
  },
  {
   "cell_type": "code",
   "execution_count": 21,
   "metadata": {},
   "outputs": [],
   "source": [
    "def get_free_apps(dataset, price_ind):\n",
    "    free_apps = list()\n",
    "    \n",
    "    for row in dataset:\n",
    "        price = row[price_ind].replace('$', '')\n",
    "        if float(price) == 0.0:\n",
    "            free_apps.append(row)\n",
    "    \n",
    "    return free_apps"
   ]
  },
  {
   "cell_type": "code",
   "execution_count": 22,
   "metadata": {
    "scrolled": true
   },
   "outputs": [
    {
     "name": "stdout",
     "output_type": "stream",
     "text": [
      "Length after isolating free apps: 8864\n",
      "Android data:\n",
      "['Photo Editor & Candy Camera & Grid & ScrapBook', 'ART_AND_DESIGN', '4.1', '159', '19M', '10,000+', 'Free', '0', 'Everyone', 'Art & Design', 'January 7, 2018', '1.0.0', '4.0.3 and up']\n",
      "['U Launcher Lite – FREE Live Cool Themes, Hide Apps', 'ART_AND_DESIGN', '4.7', '87510', '8.7M', '5,000,000+', 'Free', '0', 'Everyone', 'Art & Design', 'August 1, 2018', '1.2.4', '4.0.3 and up']\n",
      "['Sketch - Draw & Paint', 'ART_AND_DESIGN', '4.5', '215644', '25M', '50,000,000+', 'Free', '0', 'Teen', 'Art & Design', 'June 8, 2018', 'Varies with device', '4.2 and up']\n",
      "['Pixel Draw - Number Art Coloring Book', 'ART_AND_DESIGN', '4.3', '967', '2.8M', '100,000+', 'Free', '0', 'Everyone', 'Art & Design;Creativity', 'June 20, 2018', '1.1', '4.4 and up']\n",
      "['Paper flowers instructions', 'ART_AND_DESIGN', '4.4', '167', '5.6M', '50,000+', 'Free', '0', 'Everyone', 'Art & Design', 'March 26, 2017', '1.0', '2.3 and up']\n"
     ]
    }
   ],
   "source": [
    "android_data = get_free_apps(android_data, 7)\n",
    "print('Length after isolating free apps: {}'.format(len(android_data)))\n",
    "print('Android data:')\n",
    "for row in android_data[:5]:\n",
    "    print(row)"
   ]
  },
  {
   "cell_type": "code",
   "execution_count": 23,
   "metadata": {},
   "outputs": [
    {
     "name": "stdout",
     "output_type": "stream",
     "text": [
      "Length after isolating free apps: 3220\n",
      "iOS data:\n",
      "['2', '281796108', 'Evernote - stay organized', '158578688', 'USD', '0', '161065', '26', '4', '3.5', '8.2.2', '4+', 'Productivity', '37', '5', '23', '1']\n",
      "['3', '281940292', 'WeatherBug - Local Weather, Radar, Maps, Alerts', '100524032', 'USD', '0', '188583', '2822', '3.5', '4.5', '5.0.0', '4+', 'Weather', '37', '5', '3', '1']\n",
      "['4', '282614216', 'eBay: Best App to Buy, Sell, Save! Online Shopping', '128512000', 'USD', '0', '262241', '649', '4', '4.5', '5.10.0', '12+', 'Shopping', '37', '5', '9', '1']\n",
      "['5', '282935706', 'Bible', '92774400', 'USD', '0', '985920', '5320', '4.5', '5', '7.5.1', '4+', 'Reference', '37', '5', '45', '1']\n",
      "['7', '283646709', 'PayPal - Send and request money safely', '227795968', 'USD', '0', '119487', '879', '4', '4.5', '6.12.0', '4+', 'Finance', '37', '0', '19', '1']\n"
     ]
    }
   ],
   "source": [
    "ios_data = get_free_apps(ios_data, 5)\n",
    "print('Length after isolating free apps: {}'.format(len(ios_data)))\n",
    "print('iOS data:')\n",
    "for row in ios_data[:5]:\n",
    "    print(row)"
   ]
  },
  {
   "cell_type": "markdown",
   "metadata": {},
   "source": [
    "We are now left with ```8864``` android apps and ```3220``` iOS apps.  \n",
    "  \n",
    "#### Most common apps by genre:  \n",
    "Let us begin our analysis by getting a sense of the most common genres for each market. For this, we will build a frequency table.  \n",
    "  \n",
    "We will build two functions which we can use to analyze the frequency tables:\n",
    "* One function to generate frequency table that shows percentage\n",
    "* Another function that we can use to display the percentages in descending order"
   ]
  },
  {
   "cell_type": "code",
   "execution_count": 24,
   "metadata": {},
   "outputs": [],
   "source": [
    "def frequency_table(dataset, genre_ind):\n",
    "    freq_table = dict()\n",
    "    \n",
    "    for row in dataset:\n",
    "        genre = row[genre_ind]\n",
    "        freq_table[genre] = freq_table.get(genre, 0) + 1\n",
    "    \n",
    "    total = len(dataset)\n",
    "    table_percentage = dict()\n",
    "    for key in freq_table:\n",
    "        table_percentage[key] = (freq_table[key] / total) * 100\n",
    "    \n",
    "    return table_percentage"
   ]
  },
  {
   "cell_type": "code",
   "execution_count": 25,
   "metadata": {},
   "outputs": [],
   "source": [
    "def display_table(dataset, index):\n",
    "    table_percentage = frequency_table(dataset, index)\n",
    "    \n",
    "    # sort in descending order\n",
    "    table_sorted = sorted(table_percentage.items(), key=lambda x: x[1], reverse=True)\n",
    "    for entry in table_sorted:\n",
    "        print('{}: {:.2f}'.format(entry[0], round(entry[1], 2)))"
   ]
  },
  {
   "cell_type": "markdown",
   "metadata": {},
   "source": [
    "Examining frequency table for the ```prime_genre``` column of the App Store data set."
   ]
  },
  {
   "cell_type": "code",
   "execution_count": 26,
   "metadata": {
    "scrolled": true
   },
   "outputs": [
    {
     "name": "stdout",
     "output_type": "stream",
     "text": [
      "Games: 58.14\n",
      "Entertainment: 7.89\n",
      "Photo & Video: 4.97\n",
      "Education: 3.66\n",
      "Social Networking: 3.29\n",
      "Shopping: 2.61\n",
      "Utilities: 2.52\n",
      "Sports: 2.14\n",
      "Music: 2.05\n",
      "Health & Fitness: 2.02\n",
      "Productivity: 1.74\n",
      "Lifestyle: 1.58\n",
      "News: 1.34\n",
      "Travel: 1.24\n",
      "Finance: 1.12\n",
      "Weather: 0.87\n",
      "Food & Drink: 0.81\n",
      "Reference: 0.56\n",
      "Business: 0.53\n",
      "Book: 0.43\n",
      "Navigation: 0.19\n",
      "Medical: 0.19\n",
      "Catalogs: 0.12\n"
     ]
    }
   ],
   "source": [
    "display_table(ios_data, -5) #display frequency table for 'prime_genre'"
   ]
  },
  {
   "cell_type": "markdown",
   "metadata": {},
   "source": [
    "We can see that among the free English apps, more than half (```58.14%```) are ```games```. ```Entertainment``` apps are close to ```8%```, followed by ```photos and videos``` app, which is close to ```5%```. Only ```3.66%``` of the apps are designed for ```education```, followed by ```social networking``` apps which amount ```3.29%``` of the apps in our dataset.  \n",
    "  \n",
    "The general impression is that App Store (at least the part containing free English apps) is dominated by apps that are designed for fun (games, entertainment, photo and video, social networking, sports, music, etc.), while apps with practical purposes (education, shopping, utilities, productivity, lifestyle, etc.) are more rare.  \n",
    "  \n",
    "Examining the ```Genre``` and ```Category``` columns of the Google Play dataset"
   ]
  },
  {
   "cell_type": "code",
   "execution_count": 29,
   "metadata": {},
   "outputs": [
    {
     "name": "stdout",
     "output_type": "stream",
     "text": [
      "FAMILY: 18.91\n",
      "GAME: 9.72\n",
      "TOOLS: 8.46\n",
      "BUSINESS: 4.59\n",
      "LIFESTYLE: 3.90\n",
      "PRODUCTIVITY: 3.89\n",
      "FINANCE: 3.70\n",
      "MEDICAL: 3.53\n",
      "SPORTS: 3.40\n",
      "PERSONALIZATION: 3.32\n",
      "COMMUNICATION: 3.24\n",
      "HEALTH_AND_FITNESS: 3.08\n",
      "PHOTOGRAPHY: 2.94\n",
      "NEWS_AND_MAGAZINES: 2.80\n",
      "SOCIAL: 2.66\n",
      "TRAVEL_AND_LOCAL: 2.34\n",
      "SHOPPING: 2.25\n",
      "BOOKS_AND_REFERENCE: 2.14\n",
      "DATING: 1.86\n",
      "VIDEO_PLAYERS: 1.79\n",
      "MAPS_AND_NAVIGATION: 1.40\n",
      "FOOD_AND_DRINK: 1.24\n",
      "EDUCATION: 1.16\n",
      "ENTERTAINMENT: 0.96\n",
      "LIBRARIES_AND_DEMO: 0.94\n",
      "AUTO_AND_VEHICLES: 0.93\n",
      "HOUSE_AND_HOME: 0.82\n",
      "WEATHER: 0.80\n",
      "EVENTS: 0.71\n",
      "PARENTING: 0.65\n",
      "ART_AND_DESIGN: 0.64\n",
      "COMICS: 0.62\n",
      "BEAUTY: 0.60\n"
     ]
    }
   ],
   "source": [
    "display_table(android_data, 1) #display frequency table for 'Category'"
   ]
  },
  {
   "cell_type": "markdown",
   "metadata": {},
   "source": [
    "There are not many apps designed for fun in Google play, and it seems that a good number of apps are designed for practical purposes (family, tools, business, lifestyle etc). However, if we investigate this further, we can see that the family category means mostly games for kids."
   ]
  },
  {
   "cell_type": "code",
   "execution_count": 28,
   "metadata": {},
   "outputs": [
    {
     "name": "stdout",
     "output_type": "stream",
     "text": [
      "Tools: 8.45\n",
      "Entertainment: 6.07\n",
      "Education: 5.35\n",
      "Business: 4.59\n",
      "Lifestyle: 3.89\n",
      "Productivity: 3.89\n",
      "Finance: 3.70\n",
      "Medical: 3.53\n",
      "Sports: 3.46\n",
      "Personalization: 3.32\n",
      "Communication: 3.24\n",
      "Action: 3.10\n",
      "Health & Fitness: 3.08\n",
      "Photography: 2.94\n",
      "News & Magazines: 2.80\n",
      "Social: 2.66\n",
      "Travel & Local: 2.32\n",
      "Shopping: 2.25\n",
      "Books & Reference: 2.14\n",
      "Simulation: 2.04\n",
      "Dating: 1.86\n",
      "Arcade: 1.85\n",
      "Video Players & Editors: 1.77\n",
      "Casual: 1.76\n",
      "Maps & Navigation: 1.40\n",
      "Food & Drink: 1.24\n",
      "Puzzle: 1.13\n",
      "Racing: 0.99\n",
      "Libraries & Demo: 0.94\n",
      "Role Playing: 0.94\n",
      "Auto & Vehicles: 0.93\n",
      "Strategy: 0.91\n",
      "House & Home: 0.82\n",
      "Weather: 0.80\n",
      "Events: 0.71\n",
      "Adventure: 0.68\n",
      "Comics: 0.61\n",
      "Art & Design: 0.60\n",
      "Beauty: 0.60\n",
      "Parenting: 0.50\n",
      "Card: 0.45\n",
      "Casino: 0.43\n",
      "Trivia: 0.42\n",
      "Educational;Education: 0.39\n",
      "Board: 0.38\n",
      "Educational: 0.37\n",
      "Education;Education: 0.34\n",
      "Word: 0.26\n",
      "Casual;Pretend Play: 0.24\n",
      "Music: 0.20\n",
      "Entertainment;Music & Video: 0.17\n",
      "Puzzle;Brain Games: 0.17\n",
      "Racing;Action & Adventure: 0.17\n",
      "Casual;Brain Games: 0.14\n",
      "Casual;Action & Adventure: 0.14\n",
      "Arcade;Action & Adventure: 0.12\n",
      "Action;Action & Adventure: 0.10\n",
      "Educational;Pretend Play: 0.09\n",
      "Entertainment;Brain Games: 0.08\n",
      "Simulation;Action & Adventure: 0.08\n",
      "Board;Brain Games: 0.08\n",
      "Parenting;Education: 0.08\n",
      "Art & Design;Creativity: 0.07\n",
      "Educational;Brain Games: 0.07\n",
      "Casual;Creativity: 0.07\n",
      "Parenting;Music & Video: 0.07\n",
      "Education;Pretend Play: 0.06\n",
      "Education;Creativity: 0.05\n",
      "Role Playing;Pretend Play: 0.05\n",
      "Education;Brain Games: 0.03\n",
      "Entertainment;Creativity: 0.03\n",
      "Educational;Creativity: 0.03\n",
      "Adventure;Action & Adventure: 0.03\n",
      "Role Playing;Action & Adventure: 0.03\n",
      "Educational;Action & Adventure: 0.03\n",
      "Entertainment;Action & Adventure: 0.03\n",
      "Puzzle;Action & Adventure: 0.03\n",
      "Education;Action & Adventure: 0.03\n",
      "Education;Music & Video: 0.03\n",
      "Casual;Education: 0.02\n",
      "Music;Music & Video: 0.02\n",
      "Simulation;Pretend Play: 0.02\n",
      "Puzzle;Creativity: 0.02\n",
      "Sports;Action & Adventure: 0.02\n",
      "Board;Action & Adventure: 0.02\n",
      "Entertainment;Pretend Play: 0.02\n",
      "Video Players & Editors;Music & Video: 0.02\n",
      "Comics;Creativity: 0.01\n",
      "Lifestyle;Pretend Play: 0.01\n",
      "Art & Design;Pretend Play: 0.01\n",
      "Entertainment;Education: 0.01\n",
      "Arcade;Pretend Play: 0.01\n",
      "Art & Design;Action & Adventure: 0.01\n",
      "Strategy;Action & Adventure: 0.01\n",
      "Music & Audio;Music & Video: 0.01\n",
      "Health & Fitness;Education: 0.01\n",
      "Casual;Music & Video: 0.01\n",
      "Travel & Local;Action & Adventure: 0.01\n",
      "Tools;Education: 0.01\n",
      "Parenting;Brain Games: 0.01\n",
      "Video Players & Editors;Creativity: 0.01\n",
      "Health & Fitness;Action & Adventure: 0.01\n",
      "Trivia;Education: 0.01\n",
      "Lifestyle;Education: 0.01\n",
      "Card;Action & Adventure: 0.01\n",
      "Books & Reference;Education: 0.01\n",
      "Simulation;Education: 0.01\n",
      "Puzzle;Education: 0.01\n",
      "Adventure;Education: 0.01\n",
      "Role Playing;Brain Games: 0.01\n",
      "Strategy;Education: 0.01\n",
      "Racing;Pretend Play: 0.01\n",
      "Communication;Creativity: 0.01\n",
      "Strategy;Creativity: 0.01\n"
     ]
    }
   ],
   "source": [
    "display_table(android_data, -4) #display frequency table for 'Genre'"
   ]
  },
  {
   "cell_type": "markdown",
   "metadata": {},
   "source": [
    "The difference between the *Genres* and the *Category* columns is not clear, but one thing that we can notice is that the *Genres* column has more categories.  \n",
    "Up to this point, we found that the AppStore is dominated by apps designed for fun, while Google Play shows a more balanced landscape of both practical and for-fun apps. "
   ]
  }
 ],
 "metadata": {
  "kernelspec": {
   "display_name": "Python 3",
   "language": "python",
   "name": "python3"
  },
  "language_info": {
   "codemirror_mode": {
    "name": "ipython",
    "version": 3
   },
   "file_extension": ".py",
   "mimetype": "text/x-python",
   "name": "python",
   "nbconvert_exporter": "python",
   "pygments_lexer": "ipython3",
   "version": "3.7.4"
  }
 },
 "nbformat": 4,
 "nbformat_minor": 2
}
